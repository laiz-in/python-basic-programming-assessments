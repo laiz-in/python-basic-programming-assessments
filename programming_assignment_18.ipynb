{
 "cells": [
  {
   "cell_type": "markdown",
   "metadata": {},
   "source": [
    "## Question 1\n",
    "\n",
    "Create a function that takes a list of non-negative integers and strings and return a new list without the strings.\n",
    "\n",
    "Examples\n",
    "\n",
    "filter_list([1, 2, \"a\", \"b\"]) ➞ [1, 2]\n",
    "\n",
    "filter_list([1, \"a\", \"b\", 0, 15]) ➞ [1, 0, 15]\n",
    "\n",
    "filter_list([1, 2, \"aasf\", \"1\", \"123\", 123]) ➞ [1, 2, 123]"
   ]
  },
  {
   "cell_type": "code",
   "execution_count": 6,
   "metadata": {},
   "outputs": [
    {
     "name": "stdout",
     "output_type": "stream",
     "text": [
      "Fileteres list contains only integers are  [2, 4, 34]\n"
     ]
    }
   ],
   "source": [
    "# Define a fucniton to take the input as a list pf mixed integers and string\n",
    "def FilteredList(ListTobeFiltered):\n",
    "    # creates a list to append only integers\n",
    "    FilteredList = []\n",
    "\n",
    "    for item in ListTobeFiltered:\n",
    "        if str(item).isdigit():\n",
    "            FilteredList.append(item)\n",
    "    return FilteredList\n",
    "\n",
    "\n",
    "List = [2,4,\"hd\",34,\"ddf\"]\n",
    "\n",
    "print(\"Fileteres list contains only integers are \",FilteredList(List))\n",
    "\n"
   ]
  },
  {
   "cell_type": "markdown",
   "metadata": {},
   "source": [
    "## Question 2\n",
    "\n",
    "The \"Reverser\" takes a string as input and returns that string in reverse order, with the opposite case.\n",
    "\n",
    "Examples\n",
    "reverse(\"Hello World\") ➞ \"DLROw OLLEh\"\n",
    "\n",
    "reverse(\"ReVeRsE\") ➞ \"eSrEvEr\"\n",
    "\n",
    "reverse(\"Radar\") ➞ \"RADAr\""
   ]
  },
  {
   "cell_type": "code",
   "execution_count": 15,
   "metadata": {},
   "outputs": [
    {
     "name": "stdout",
     "output_type": "stream",
     "text": [
      "string 'Hey its CHECK' after reversing and swapping the cases : kcehc STI YEh\n"
     ]
    }
   ],
   "source": [
    "# define the function to take the input as astring and reverse and swap the cases\n",
    "def Reverser(InputString):\n",
    "    # reverse the input string\n",
    "    ReversedString = InputString[::-1]\n",
    "\n",
    "    # define an empty string\n",
    "    swapped_case_string = \"\"\n",
    "     \n",
    "    # loop through all the characetrs in the reversed string to swap the cases\n",
    "    for char in ReversedString:\n",
    "        if char.isupper():\n",
    "            swapped_case_string += char.lower()\n",
    "        elif char.islower():\n",
    "            swapped_case_string += char.upper()\n",
    "        else:\n",
    "            swapped_case_string += char\n",
    "    return swapped_case_string\n",
    "\n",
    "# give an input string to perform\n",
    "InputString = \"Hey its CHECK\"\n",
    "\n",
    "print(f\"string '{InputString}' after reversing and swapping the cases : {Reverser(InputString)}\")"
   ]
  },
  {
   "cell_type": "markdown",
   "metadata": {},
   "source": [
    "## Question 3\n",
    "\n",
    "You can assign variables from lists like this:\n",
    "\n",
    "lst = [1, 2, 3, 4, 5, 6]\n",
    "\n",
    "first = lst[0]\n",
    "\n",
    "middle = lst[1:-1]\n",
    "\n",
    "last = lst[-1]\n",
    "\n",
    "print(first) ➞ outputs 1\n",
    "\n",
    "print(middle) ➞ outputs [2, 3, 4, 5]\n",
    "\n",
    "print(last) ➞ outputs 6\n",
    "\n",
    "With Python 3, you can assign variables from lists in a much more succinct way. Create variables first, middle and last from the given list using destructuring assignment (check the Resources tab for some examples), where:\n",
    "\n",
    "first ➞ 1\n",
    "\n",
    "middle ➞ [2, 3, 4, 5]\n",
    "\n",
    "last ➞ 6\n",
    "\n",
    "Your task is to unpack the list writeyourcodehere into three variables, being first, middle, and last, with middle being everything in between the first and last element. Then print all three variables."
   ]
  },
  {
   "cell_type": "code",
   "execution_count": 14,
   "metadata": {},
   "outputs": [
    {
     "name": "stdout",
     "output_type": "stream",
     "text": [
      "First element in the list is :  3\n",
      "Last element in the list is  :  17\n",
      "Middle elements in the list are :  [4, 5, 6, 7, 8, 9, 45, 23, 4, 55, 6, 13, 14, 15]\n"
     ]
    }
   ],
   "source": [
    "MyList = [3,4,5,6,7,8,9,45,23,4,55,6,13,14,15,17]\n",
    "\n",
    "# this is the most easiest way of using destructuring the list in python 3\n",
    "First,*Middle , Last = MyList\n",
    "\n",
    "\n",
    "print(\"First element in the list is : \",First)\n",
    "print(\"Last element in the list is  : \",Last)\n",
    "print(\"Middle elements in the list are : \",Middle)"
   ]
  },
  {
   "cell_type": "markdown",
   "metadata": {},
   "source": [
    "## Question 4\n",
    "\n",
    "Write a function that calculates the factorial of a number recursively.\n",
    "\n",
    "Examples\n",
    "factorial(5) ➞ 120\n",
    "\n",
    "factorial(3) ➞ 6\n",
    "\n",
    "factorial(1) ➞ 1\n",
    "\n",
    "factorial(0) ➞ 1 "
   ]
  },
  {
   "cell_type": "code",
   "execution_count": 17,
   "metadata": {},
   "outputs": [
    {
     "name": "stdout",
     "output_type": "stream",
     "text": [
      "Factorial of 5 is : 120\n"
     ]
    }
   ],
   "source": [
    "def Factorial(n):\n",
    "    #factorial of 0 or 1 is 1\n",
    "    if n == 0 or n == 1:\n",
    "        return 1\n",
    "    #Use recursive fucntion to calculate if the number is not 0 or 1\n",
    "    else:\n",
    "        return n * Factorial(n - 1)\n",
    "    \n",
    "Num = 5\n",
    "print(f\"Factorial of {Num} is : {Factorial(Num)}\")"
   ]
  },
  {
   "cell_type": "markdown",
   "metadata": {},
   "source": [
    "## Question 5\n",
    "\n",
    "Write a function that moves all elements of one type to the end of the list.\n",
    "\n",
    "Examples\n",
    "move_to_end([1, 3, 2, 4, 4, 1], 1) ➞ [3, 2, 4, 4, 1, 1]\n",
    "\n",
    "# Move all the 1s to the end of the array.\n",
    "\n",
    "move_to_end([7, 8, 9, 1, 2, 3, 4], 9) ➞ [7, 8, 1, 2, 3, 4, 9]\n",
    "\n",
    "move_to_end([\"a\", \"a\", \"a\", \"b\"], \"a\") ➞ [\"b\", \"a\", \"a\", \"a\"]"
   ]
  },
  {
   "cell_type": "code",
   "execution_count": 21,
   "metadata": {},
   "outputs": [
    {
     "name": "stdout",
     "output_type": "stream",
     "text": [
      "['b', 'a', 'a', 'a']\n"
     ]
    }
   ],
   "source": [
    "def MoveToEnd(MyList, ElementsToMove):\n",
    "    # initialize two empty lists to store elements of the desired type and other elements\n",
    "    ElementsOfType = []\n",
    "    OtherElements = []\n",
    "\n",
    "    # iterate through the list and categorize elements\n",
    "    for element in MyList:\n",
    "        if element == ElementsToMove:\n",
    "            ElementsOfType.append(element)\n",
    "        else:\n",
    "            OtherElements.append(element)\n",
    "\n",
    "    # combine the two lists to get the desired order\n",
    "    result = OtherElements + ElementsOfType\n",
    "\n",
    "    return result\n",
    "\n",
    "print(MoveToEnd([\"a\", \"a\", \"a\", \"b\"], \"a\"))  # Output: [\"b\", \"a\", \"a\", \"a\"]\n"
   ]
  }
 ],
 "metadata": {
  "kernelspec": {
   "display_name": "Python 3",
   "language": "python",
   "name": "python3"
  },
  "language_info": {
   "codemirror_mode": {
    "name": "ipython",
    "version": 3
   },
   "file_extension": ".py",
   "mimetype": "text/x-python",
   "name": "python",
   "nbconvert_exporter": "python",
   "pygments_lexer": "ipython3",
   "version": "3.9.10"
  },
  "orig_nbformat": 4
 },
 "nbformat": 4,
 "nbformat_minor": 2
}
