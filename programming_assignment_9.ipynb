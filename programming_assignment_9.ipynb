{
 "cells": [
  {
   "cell_type": "markdown",
   "metadata": {},
   "source": [
    "## 1 Write a Python program to check if the given number is a Disarium Number?\n"
   ]
  },
  {
   "cell_type": "markdown",
   "metadata": {},
   "source": [
    ">A disarium number is a natural number whose sum of its digits to the power of their respective positions is equal to the number itself"
   ]
  },
  {
   "cell_type": "code",
   "execution_count": 2,
   "metadata": {},
   "outputs": [
    {
     "name": "stdout",
     "output_type": "stream",
     "text": [
      "89 is a Disarium number\n"
     ]
    }
   ],
   "source": [
    "def CheckDisarium(num):\n",
    "    # converting the number into string\n",
    "    num_str = str(num)\n",
    "\n",
    "    # finding out the length of string\n",
    "    n = len(num_str)\n",
    "\n",
    "    # summation of al digits to the power of their positions\n",
    "    digit_sum = sum(int(digit) ** (i + 1) for i, digit in enumerate(num_str))\n",
    "\n",
    "    # returns True if the sum is equals to the number itself\n",
    "    return digit_sum == num\n",
    "\n",
    "num = 89\n",
    "if CheckDisarium(num):\n",
    "    print(num, \"is a Disarium number\")\n",
    "else:\n",
    "    print(num, \"is not a Disarium number\")\n"
   ]
  },
  {
   "cell_type": "markdown",
   "metadata": {},
   "source": [
    "## 2 Write a Python program to print all disarium numbers between 1 to 100?\n"
   ]
  },
  {
   "cell_type": "code",
   "execution_count": 5,
   "metadata": {},
   "outputs": [
    {
     "name": "stdout",
     "output_type": "stream",
     "text": [
      "1\n",
      "2\n",
      "3\n",
      "4\n",
      "5\n",
      "6\n",
      "7\n",
      "8\n",
      "9\n",
      "89\n"
     ]
    }
   ],
   "source": [
    "def CheckDisarium(num):\n",
    "    num_str = str(num)\n",
    "    n = len(num_str)\n",
    "    digit_sum = sum(int(digit) ** (i + 1) for i, digit in enumerate(num_str))\n",
    "    return digit_sum == num\n",
    "\n",
    "for i in range(1,100):\n",
    "    if CheckDisarium(i):\n",
    "        print(i)\n"
   ]
  },
  {
   "cell_type": "markdown",
   "metadata": {},
   "source": [
    "## 3 Write a Python program to check if the given number is Happy Number?\n"
   ]
  },
  {
   "cell_type": "markdown",
   "metadata": {},
   "source": [
    ">A happy number is a natural number that eventually reaches 1 when replaced by the sum of the squares of its digits."
   ]
  },
  {
   "cell_type": "code",
   "execution_count": 8,
   "metadata": {},
   "outputs": [
    {
     "name": "stdout",
     "output_type": "stream",
     "text": [
      "10 is a Happy number\n"
     ]
    }
   ],
   "source": [
    "def CheckHappyNumber(num):\n",
    "    # create a set to store the numbers that have been visited\n",
    "    seen = set()\n",
    "\n",
    "    while num != 1 and num not in seen:\n",
    "        seen.add(num)\n",
    "        num = sum(int(digit) ** 2 for digit in str(num))\n",
    "    return num == 1\n",
    "\n",
    "\n",
    "num = 10\n",
    "if CheckHappyNumber(num):\n",
    "    print(num, \"is a Happy number\")\n",
    "else:\n",
    "    print(num, \"is not a happy number\")\n"
   ]
  },
  {
   "cell_type": "markdown",
   "metadata": {},
   "source": [
    "## 4 Write a Python program to print all happy numbers between 1 and 100?\n"
   ]
  },
  {
   "cell_type": "code",
   "execution_count": 9,
   "metadata": {},
   "outputs": [
    {
     "name": "stdout",
     "output_type": "stream",
     "text": [
      "1\n",
      "2\n",
      "3\n",
      "4\n",
      "5\n",
      "6\n",
      "7\n",
      "8\n",
      "9\n",
      "89\n"
     ]
    }
   ],
   "source": [
    "def CheckHappyNumber(num):\n",
    "    # create a set to store the numbers that have been visited\n",
    "    seen = set()\n",
    "\n",
    "    while num != 1 and num not in seen:\n",
    "        seen.add(num)\n",
    "        num = sum(int(digit) ** 2 for digit in str(num))\n",
    "    return num == 1\n",
    "\n",
    "\n",
    "for i in range(1,100):\n",
    "    if CheckDisarium(i):\n",
    "        print(i)\n"
   ]
  },
  {
   "cell_type": "markdown",
   "metadata": {},
   "source": [
    "## 5 Write a Python program to determine whether the given number is a Harshad Number?\n"
   ]
  },
  {
   "cell_type": "markdown",
   "metadata": {},
   "source": [
    ">A Harshad number is a natural number that is divisible by the sum of its digits"
   ]
  },
  {
   "cell_type": "code",
   "execution_count": 13,
   "metadata": {},
   "outputs": [
    {
     "name": "stdout",
     "output_type": "stream",
     "text": [
      "18 is a Harshad number.\n"
     ]
    }
   ],
   "source": [
    "def is_harshad_number(num):\n",
    "    digit_sum = sum(int(digit) for digit in str(num))\n",
    "    return num % digit_sum == 0\n",
    "\n",
    "\n",
    "num = 18\n",
    "if is_harshad_number(num):\n",
    "    print(num, \"is a Harshad number\")\n",
    "else:\n",
    "    print(num, \"is not a Harshad number\")\n"
   ]
  },
  {
   "cell_type": "markdown",
   "metadata": {},
   "source": [
    "## 6 Write a Python program to print all pronic numbers between 1 and 100"
   ]
  },
  {
   "cell_type": "markdown",
   "metadata": {},
   "source": [
    ">A pronic number is a natural number that is the product of two consecutive integers"
   ]
  },
  {
   "cell_type": "code",
   "execution_count": 17,
   "metadata": {},
   "outputs": [
    {
     "name": "stdout",
     "output_type": "stream",
     "text": [
      "Pronic numbers between 1 and 100 are: [2, 6, 12, 20, 30, 42, 56, 72, 90]\n"
     ]
    }
   ],
   "source": [
    "def PronicNumbers():\n",
    "    pronic_numbers = []\n",
    "    for num in range(1,100):\n",
    "        for i in range(1, int(num ** 0.5) + 1):\n",
    "            if i * (i + 1) == num:\n",
    "                pronic_numbers.append(num)\n",
    "                break\n",
    "    return pronic_numbers\n",
    "\n",
    "print(\"Pronic numbers between 1 and 100 are:\", PronicNumbers())\n"
   ]
  }
 ],
 "metadata": {
  "kernelspec": {
   "display_name": "Python 3",
   "language": "python",
   "name": "python3"
  },
  "language_info": {
   "codemirror_mode": {
    "name": "ipython",
    "version": 3
   },
   "file_extension": ".py",
   "mimetype": "text/x-python",
   "name": "python",
   "nbconvert_exporter": "python",
   "pygments_lexer": "ipython3",
   "version": "3.9.10"
  },
  "orig_nbformat": 4
 },
 "nbformat": 4,
 "nbformat_minor": 2
}
