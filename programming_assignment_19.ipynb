{
 "cells": [
  {
   "cell_type": "markdown",
   "metadata": {},
   "source": [
    "## Question1\n",
    "\n",
    "Create a function that takes a string and returns a string in which each character is repeated once.\n",
    "\n",
    "Examples\n",
    "\n",
    "double_char(\"String\") ➞ \"SSttrriinngg\"\n",
    "\n",
    "double_char(\"Hello World!\") ➞ \"HHeelllloo WWoorrlldd!!\"\n",
    "\n",
    "double_char(\"1234!_ \") ➞ \"11223344!!__ \"\n",
    "\n"
   ]
  },
  {
   "cell_type": "code",
   "execution_count": 5,
   "metadata": {},
   "outputs": [
    {
     "name": "stdout",
     "output_type": "stream",
     "text": [
      "Input string is  : String\n",
      "Output string is : SSttrriinngg\n"
     ]
    }
   ],
   "source": [
    "# give the input string\n",
    "mystring = \"String\"\n",
    "\n",
    "# define a function where it takes an input string and returns by adding every character twice\n",
    "def CharacterRepeater(mystring):\n",
    "    # initialize a new empty string\n",
    "    newstring = \"\"\n",
    "    # iterate through every character of the string to make it appear twice\n",
    "    for char in mystring:\n",
    "        # add every character twice to the newstring\n",
    "        newstring += char+char\n",
    "\n",
    "    return newstring\n",
    "\n",
    "print(f\"Input string is  : {mystring}\\nOutput string is : {CharacterRepeater(mystring)}\")"
   ]
  },
  {
   "cell_type": "markdown",
   "metadata": {},
   "source": [
    "## Question2\n",
    "\n",
    "Create a function that reverses a boolean value and returns the string \"boolean expected\" if another variable type is given.\n",
    "\n",
    "Examples\n",
    "reverse(True) ➞ False\n",
    "\n",
    "reverse(False) ➞ True\n",
    "\n",
    "reverse(0) ➞ \"boolean expected\"\n",
    "\n",
    "reverse(None) ➞ \"boolean expected\""
   ]
  },
  {
   "cell_type": "code",
   "execution_count": 13,
   "metadata": {},
   "outputs": [
    {
     "name": "stdout",
     "output_type": "stream",
     "text": [
      "True\n",
      "False\n",
      "boolean expected\n",
      "boolean expected\n"
     ]
    }
   ],
   "source": [
    "def reverse(b):\n",
    "    if isinstance(b, bool):\n",
    "        return not b\n",
    "    else:\n",
    "        return \"boolean expected\"\n",
    "    \n",
    "print(reverse(False))\n",
    "print(reverse(True))\n",
    "print(reverse(0))\n",
    "print(reverse(None))"
   ]
  },
  {
   "cell_type": "markdown",
   "metadata": {},
   "source": [
    "## Question3\n",
    "\n",
    "Create a function that returns the thickness (in meters) of a piece of paper after folding it n number of times. The paper starts off with a thickness of 0.5mm.\n",
    "\n",
    "Examples\n",
    "num_layers(1) ➞ \"0.001m\"\n",
    "\n",
    "# Paper folded once is 1mm (equal to 0.001m)\n",
    "\n",
    "num_layers(4) ➞ \"0.008m\"\n",
    "\n",
    "# Paper folded 4 times is 8mm (equal to 0.008m)\n",
    "\n",
    "num_layers(21) ➞ \"1048.576m\"\n",
    "\n",
    "# Paper folded 21 times is 1048576mm (equal to 1048.576m)"
   ]
  },
  {
   "cell_type": "code",
   "execution_count": 16,
   "metadata": {},
   "outputs": [
    {
     "name": "stdout",
     "output_type": "stream",
     "text": [
      "0.001m\n",
      "0.008m\n",
      "1048.576m\n"
     ]
    }
   ],
   "source": [
    "def num_layers(n):\n",
    "    # initial thickness\n",
    "    thickness_mm = 0.5  \n",
    "    \n",
    "    # iterate n times to calculate thickness\n",
    "    for _ in range(n):\n",
    "        thickness_mm *= 2 \n",
    "\n",
    "    # converts to meters\n",
    "    thickness_m = thickness_mm / 1000 \n",
    "    return \"{:.3f}m\".format(thickness_m)\n",
    "\n",
    "print(num_layers(1))  \n",
    "print(num_layers(4))  \n",
    "print(num_layers(21)) \n"
   ]
  },
  {
   "cell_type": "markdown",
   "metadata": {},
   "source": [
    "## Question4\n",
    "\n",
    "Create a function that takes a single string as argument and returns an ordered list containing the indices of all capital letters in the string.\n",
    "\n",
    "Examples\n",
    "index_of_caps(\"eDaBiT\") ➞ [1, 3, 5]\n",
    "\n",
    "index_of_caps(\"eQuINoX\") ➞ [1, 3, 4, 6]\n",
    "\n",
    "index_of_caps(\"determine\") ➞ []\n",
    "\n",
    "index_of_caps(\"STRIKE\") ➞ [0, 1, 2, 3, 4, 5]\n",
    "\n",
    "index_of_caps(\"sUn\") ➞ [1]"
   ]
  },
  {
   "cell_type": "code",
   "execution_count": 21,
   "metadata": {},
   "outputs": [
    {
     "name": "stdout",
     "output_type": "stream",
     "text": [
      "the indices where capital letters appears in eDaBiT is : [1, 3, 5]\n"
     ]
    }
   ],
   "source": [
    "# define a fucntion to take input as string\n",
    "def IndexOfCaps(mystring):\n",
    "\n",
    "    return [index for index, char in enumerate(mystring) if char.isupper()]\n",
    "\n",
    "\n",
    "inputstring = \"eDaBiT\"\n",
    "\n",
    "print(f\"the indices where capital letters appears in {inputstring} is : {IndexOfCaps(inputstring)}\")  \n",
    "\n"
   ]
  },
  {
   "cell_type": "markdown",
   "metadata": {},
   "source": [
    "## Question5\n",
    "\n",
    "Using list comprehensions, create a function that finds all even numbers from 1 to the given number.\n",
    "\n",
    "Examples\n",
    "find_even_nums(8) ➞ [2, 4, 6, 8]\n",
    "\n",
    "find_even_nums(4) ➞ [2, 4]\n",
    "\n",
    "find_even_nums(2) ➞ [2]"
   ]
  },
  {
   "cell_type": "code",
   "execution_count": 25,
   "metadata": {},
   "outputs": [
    {
     "name": "stdout",
     "output_type": "stream",
     "text": [
      " even numbers from 1 to 18 are : [2, 4, 6, 8, 10, 12, 14, 16, 18]\n"
     ]
    }
   ],
   "source": [
    "def FindEvenNumbers(n):\n",
    "    # return a list of numbers withjin the range where num%2==0 , it means its an even number\n",
    "    return [num for num in range(1, n + 1) if num % 2 == 0]\n",
    "\n",
    "n= 18\n",
    "\n",
    "print(f\" even numbers from 1 to {n} are : {FindEvenNumbers(n)}\")\n",
    "\n"
   ]
  }
 ],
 "metadata": {
  "kernelspec": {
   "display_name": "Python 3",
   "language": "python",
   "name": "python3"
  },
  "language_info": {
   "codemirror_mode": {
    "name": "ipython",
    "version": 3
   },
   "file_extension": ".py",
   "mimetype": "text/x-python",
   "name": "python",
   "nbconvert_exporter": "python",
   "pygments_lexer": "ipython3",
   "version": "3.9.10"
  },
  "orig_nbformat": 4
 },
 "nbformat": 4,
 "nbformat_minor": 2
}
