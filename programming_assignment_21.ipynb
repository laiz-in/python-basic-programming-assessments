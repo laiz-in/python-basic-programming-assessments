{
 "cells": [
  {
   "cell_type": "markdown",
   "metadata": {},
   "source": [
    "## Question1\n",
    "\n",
    "Write a function that takes a list and a number as arguments. Add the number to the end of the list, then remove the first element of the list. The function should then return the updated list.\n",
    "\n",
    "Examples\n",
    "\n",
    "next_in_line([5, 6, 7, 8, 9], 1) ➞ [6, 7, 8, 9, 1]\n",
    "\n",
    "next_in_line([7, 6, 3, 23, 17], 10) ➞ [6, 3, 23, 17, 10]\n",
    "\n",
    "next_in_line([1, 10, 20, 42 ], 6) ➞ [10, 20, 42, 6]\n",
    "\n",
    "next_in_line([], 6) ➞ \"No list has been selected\"\n",
    "\n"
   ]
  },
  {
   "cell_type": "code",
   "execution_count": 2,
   "metadata": {},
   "outputs": [
    {
     "name": "stdout",
     "output_type": "stream",
     "text": [
      "list after addign the number to the end and popping the first element [6, 7, 8, 9, 1]\n"
     ]
    }
   ],
   "source": [
    "def ListUpdation(mylist, num):\n",
    "    if mylist:\n",
    "        mylist.pop(0)\n",
    "        mylist.append(num)\n",
    "        return mylist\n",
    "    else:\n",
    "        return \"No list has been selected\"\n",
    "\n",
    "print(\"list after addign the number to the end and popping the first element\",ListUpdation([5, 6, 7, 8, 9], 1))  \n",
    "\n"
   ]
  },
  {
   "cell_type": "markdown",
   "metadata": {},
   "source": [
    "## Question2\n",
    "\n",
    "Create the function that takes a list of dictionaries and returns the sum of people's budgets.\n",
    "\n",
    "Examples\n",
    "get_budgets([\n",
    "\n",
    "{ \"name\": \"John\", \"age\": 21, \"budget\": 23000 },\n",
    "\n",
    "{ \"name\": \"Steve\", \"age\": 32, \"budget\": 40000 },\n",
    "\n",
    "{ \"name\": \"Martin\", \"age\": 16, \"budget\": 2700 }\n",
    "\n",
    "]) ➞ 65700\n",
    "\n",
    "get_budgets([\n",
    "\n",
    "{ \"name\": \"John\", \"age\": 21, \"budget\": 29000 },\n",
    "\n",
    "{ \"name\": \"Steve\", \"age\": 32, \"budget\": 32000 },\n",
    "\n",
    "{ \"name\": \"Martin\", \"age\": 16, \"budget\": 1600 }\n",
    "\n",
    "]) ➞ 62600\n",
    "\n"
   ]
  },
  {
   "cell_type": "code",
   "execution_count": 4,
   "metadata": {},
   "outputs": [
    {
     "name": "stdout",
     "output_type": "stream",
     "text": [
      "Total budget is :  65700\n"
     ]
    }
   ],
   "source": [
    "# define a function to take the list of dictionaries as arg and returns the total budget\n",
    "def GetBudgets(mylist):\n",
    "    # iterate through the list to calculate the sum\n",
    "    TotalBudget = sum(person[\"budget\"] for person in mylist)\n",
    "    return TotalBudget\n",
    "\n",
    "\n",
    "Total = GetBudgets([\n",
    "    {\"name\": \"John\", \"age\": 21, \"budget\": 23000},\n",
    "    {\"name\": \"Steve\", \"age\": 32, \"budget\": 40000},\n",
    "    {\"name\": \"Martin\", \"age\": 16, \"budget\": 2700}\n",
    "])\n",
    "\n",
    "\n",
    "print(\"Total budget is : \",Total)\n"
   ]
  },
  {
   "cell_type": "markdown",
   "metadata": {},
   "source": [
    "## Question3\n",
    "\n",
    "Create a function that takes a string and returns a string with its letters in alphabetical order.\n",
    "\n",
    "Examples\n",
    "alphabet_soup(\"hello\") ➞ \"ehllo\"\n",
    "\n",
    "alphabet_soup(\"edabit\") ➞ \"abdeit\"\n",
    "\n",
    "alphabet_soup(\"hacker\") ➞ \"acehkr\"\n",
    "\n",
    "alphabet_soup(\"geek\") ➞ \"eegk\"\n",
    "\n",
    "alphabet_soup(\"javascript\") ➞ \"aacijprstv\""
   ]
  },
  {
   "cell_type": "code",
   "execution_count": 9,
   "metadata": {},
   "outputs": [
    {
     "name": "stdout",
     "output_type": "stream",
     "text": [
      "the string in alphabetical order is  dehlllooorw\n"
     ]
    }
   ],
   "source": [
    "# define a function to take input string and return the sorted string\n",
    "def SortingFunction(mystring):\n",
    "    # create a new string made from current string. sorted() function sorts the string\n",
    "    SortedString = ''.join(sorted(mystring))\n",
    "    return SortedString\n",
    "\n",
    "InputString = \"hellooworld\"\n",
    "\n",
    "print(\"the string in alphabetical order is \",SortingFunction(InputString))  \n",
    "\n"
   ]
  },
  {
   "cell_type": "markdown",
   "metadata": {},
   "source": [
    "## Question4\n",
    "\n",
    "Suppose that you invest $10,000 for 10 years at an interest rate of 6% compounded monthly. What will be the value of your investment at the end of the 10 year period?\n",
    "\n",
    "Create a function that accepts the principal p, the term in years t, the interest rate r, and the number of compounding periods per year n. The function returns the value at the end of term rounded to the nearest cent.\n",
    "\n",
    "For the example above:\n",
    "\n",
    "compound_interest(10000, 10, 0.06, 12) ➞ 18193.97\n",
    "\n",
    "Note that the interest rate is given as a decimal and n=12 because with monthly compounding there are 12 periods per year. Compounding can also be done annually, quarterly, weekly, or daily.\n",
    "\n",
    "Examples\n",
    "compound_interest(100, 1, 0.05, 1) ➞ 105.0\n",
    "\n",
    "compound_interest(3500, 15, 0.1, 4) ➞ 15399.26\n",
    "\n",
    "compound_interest(100000, 20, 0.15, 365) ➞ 2007316.26"
   ]
  },
  {
   "cell_type": "code",
   "execution_count": 13,
   "metadata": {},
   "outputs": [
    {
     "name": "stdout",
     "output_type": "stream",
     "text": [
      "Value of investment will be :  18193.97\n"
     ]
    }
   ],
   "source": [
    "# define a fucntion that takes the required inputs and returns the the value of yout investment \n",
    "def CompundInterest(Principal, TermInYears, InterestRate, CompoundingPeriod):\n",
    "\n",
    "    # calculate the value according to the below formula\n",
    "    A = Principal * (1 + InterestRate/CompoundingPeriod)**(CompoundingPeriod*TermInYears)\n",
    "\n",
    "    # returns the rounded value\n",
    "    return round(A, 2)\n",
    "\n",
    "P = 10000 # Principal\n",
    "T = 10 # terms nin years\n",
    "R = 0.06 # interest per year\n",
    "N = 12 # compoundin period\n",
    "\n",
    "print(\"Value of investment will be : \",CompundInterest(P,T,R,N)) \n",
    "\n"
   ]
  },
  {
   "cell_type": "markdown",
   "metadata": {},
   "source": [
    "## Question5\n",
    "\n",
    "Write a function that takes a list of elements and returns only the integers.\n",
    "\n",
    "Examples\n",
    "return_only_integer([9, 2, \"space\", \"car\", \"lion\", 16]) ➞ [9, 2, 16]\n",
    "\n",
    "return_only_integer([\"hello\", 81, \"basketball\", 123, \"fox\"]) ➞ [81, 123]\n",
    "\n",
    "return_only_integer([10, \"121\", 56, 20, \"car\", 3, \"lion\"]) ➞ [10, 56, 20, 3]\n",
    "\n",
    "return_only_integer([\"String\", True, 3.3, 1]) ➞ [1]"
   ]
  },
  {
   "cell_type": "code",
   "execution_count": 15,
   "metadata": {},
   "outputs": [
    {
     "name": "stdout",
     "output_type": "stream",
     "text": [
      "List after filtering out only integers :  [81, 123]\n"
     ]
    }
   ],
   "source": [
    "# define a fucntion that atkes a list as input and returns only with integers\n",
    "def IntegerFilter(mylist):\n",
    "    # iterate through the list to filter out integers only\n",
    "\n",
    "    #returns the filtered list\n",
    "    return [x for x in mylist if isinstance(x, int)]\n",
    "\n",
    "\n",
    "mylist = [\"hello\", 81, \"basketball\", 123, \"fox\"]\n",
    "print(\"List after filtering out only integers : \",IntegerFilter(mylist)) \n"
   ]
  }
 ],
 "metadata": {
  "kernelspec": {
   "display_name": "Python 3",
   "language": "python",
   "name": "python3"
  },
  "language_info": {
   "codemirror_mode": {
    "name": "ipython",
    "version": 3
   },
   "file_extension": ".py",
   "mimetype": "text/x-python",
   "name": "python",
   "nbconvert_exporter": "python",
   "pygments_lexer": "ipython3",
   "version": "3.9.10"
  },
  "orig_nbformat": 4
 },
 "nbformat": 4,
 "nbformat_minor": 2
}
