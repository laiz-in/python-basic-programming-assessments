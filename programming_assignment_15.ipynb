{
 "cells": [
  {
   "cell_type": "markdown",
   "metadata": {},
   "source": [
    "## Question 1:\n",
    "\n",
    "Please write a program using generator to print the numbers which can be divisible by 5 and 7 between 0 and n in comma separated form while n is input by console.\n",
    "\n",
    "Example:\n",
    "If the following n is given as input to the program:\n",
    "\n",
    "100\n",
    "\n",
    "Then, the output of the program should be:\n",
    "\n",
    "0,35,70"
   ]
  },
  {
   "cell_type": "code",
   "execution_count": 3,
   "metadata": {},
   "outputs": [
    {
     "name": "stdout",
     "output_type": "stream",
     "text": [
      " your input is : 100 \n",
      " result is 0,35,70\n"
     ]
    }
   ],
   "source": [
    "# define a fucniton that can take n as arg and generate divisors by 5 and 7\n",
    "def DivisorFunction(n):\n",
    "    # loop through 0 to n\n",
    "    for num in range(n + 1):\n",
    "        if num % 5 == 0 and num % 7 == 0:\n",
    "            yield num\n",
    "\n",
    "try:\n",
    "    # take input as comma seperated values\n",
    "    n = int(input(\"Enter a value for n: \"))\n",
    "    result = \",\".join(map(str, DivisorFunction(n)))\n",
    "    print(f\" your input is : {n} \\n result is {result}\")\n",
    "except Exception as e:\n",
    "    print(\"error occured : \",e)\n"
   ]
  },
  {
   "cell_type": "markdown",
   "metadata": {},
   "source": [
    "## Question 2:\n",
    "\n",
    "Please write a program using generator to print the even numbers between 0 and n in comma separated form while n is input by console.\n",
    "\n",
    "Example:\n",
    "If the following n is given as input to the program:\n",
    "\n",
    "10\n",
    "\n",
    "Then, the output of the program should be:\n",
    "\n",
    "0,2,4,6,8,10"
   ]
  },
  {
   "cell_type": "code",
   "execution_count": 5,
   "metadata": {},
   "outputs": [
    {
     "name": "stdout",
     "output_type": "stream",
     "text": [
      " your input is : 10 \n",
      " even numbers between 0 - 10 is :  0,2,4,6,8,10\n"
     ]
    }
   ],
   "source": [
    "# define a function that canprint even numbers between 0 to n in csv\n",
    "def EvenNumberFunction(n):\n",
    "    # loop through 0 to n\n",
    "    for num in range(0,n + 1):\n",
    "        if num % 2 == 0:\n",
    "            yield num\n",
    "\n",
    "try:\n",
    "    # take input as comma seperated values\n",
    "    n = int(input(\"Enter a value for n: \"))\n",
    "    result = \",\".join(map(str, EvenNumberFunction(n)))\n",
    "    print(f\" your input is : {n} \\n even numbers between 0 - {n} is :  {result}\")\n",
    "except Exception as e:\n",
    "    print(\"error occured : \",e)"
   ]
  },
  {
   "cell_type": "markdown",
   "metadata": {},
   "source": [
    "## Question 3:\n",
    "\n",
    "The Fibonacci Sequence is computed based on the following formula:\n",
    "\n",
    "f(n)=0 if n=0\n",
    "f(n)=1 if n=1\n",
    "f(n)=f(n-1)+f(n-2) if n>1\n",
    "\n",
    "Please write a program using list comprehension to print the Fibonacci Sequence in comma separated form with a given n input by console.\n",
    "\n",
    "Example:\n",
    "If the following n is given as input to the program:\n",
    "\n",
    "7\n",
    "\n",
    "Then, the output of the program should be:\n",
    "\n",
    "0,1,1,2,3,5,8,13"
   ]
  },
  {
   "cell_type": "code",
   "execution_count": 9,
   "metadata": {},
   "outputs": [
    {
     "name": "stdout",
     "output_type": "stream",
     "text": [
      "0,1,1,2,3,5,8,13\n"
     ]
    }
   ],
   "source": [
    "# function to generate Fibonacci sequence using list comprehension\n",
    "def GenerateFibonacci(n):\n",
    "    if n <= 0:\n",
    "        return []\n",
    "    elif n == 1:\n",
    "        return [0]\n",
    "    elif n == 2:\n",
    "        return [0, 1]\n",
    "    else:\n",
    "        fib_sequence = [0, 1]\n",
    "        [fib_sequence.append(fib_sequence[-1] + fib_sequence[-2]) for _ in range(n - 2)]\n",
    "        return fib_sequence\n",
    "\n",
    "# aceept input from the user\n",
    "n = int(input(\"Enter the value of n: \"))\n",
    "\n",
    "# generate and print the Fibonacci sequence up to the n\n",
    "fib_sequence = GenerateFibonacci(n+1)\n",
    "print(','.join(map(str, fib_sequence)))\n"
   ]
  },
  {
   "cell_type": "markdown",
   "metadata": {},
   "source": [
    "## Question 4:\n",
    "\n",
    "Assuming that we have some email addresses in the \"username@companyname.com\" format, please write program to print the user name of a given email address. Both user names and company names are composed of letters only.\n",
    "\n",
    "Example:\n",
    "If the following email address is given as input to the program:\n",
    "\n",
    "john@google.com\n",
    "\n",
    "Then, the output of the program should be:\n",
    "\n",
    "john"
   ]
  },
  {
   "cell_type": "code",
   "execution_count": 13,
   "metadata": {},
   "outputs": [
    {
     "name": "stdout",
     "output_type": "stream",
     "text": [
      "the user name from the given mail id is :  laizin\n"
     ]
    }
   ],
   "source": [
    "EmailID = 'laizin@gmail.com'\n",
    "# we can also get the email id from user\n",
    "\n",
    "# split the emnail id by @ and take out the forts part to get the user name\n",
    "UserName = (EmailID.split(\"@\"))[0]\n",
    "\n",
    "print(\"the user name from the given mail id is : \",UserName)"
   ]
  },
  {
   "cell_type": "markdown",
   "metadata": {},
   "source": [
    "## Question 5:\n",
    "\n",
    "Define a class named Shape and its subclass Square. The Square class has an init function which takes a length as argument. Both classes have a area function which can print the area of the shape where Shape's area is 0 by default."
   ]
  },
  {
   "cell_type": "code",
   "execution_count": 16,
   "metadata": {},
   "outputs": [
    {
     "name": "stdout",
     "output_type": "stream",
     "text": [
      " Area of the square of length 5 is : 25\n"
     ]
    }
   ],
   "source": [
    "# define the class Shape\n",
    "class Shape:\n",
    "    def __init__(self):\n",
    "        pass\n",
    "    \n",
    "    # default area function which returns 0\n",
    "    def area(self):\n",
    "        return 0\n",
    "\n",
    "# define a subclass for Shape\n",
    "class Square(Shape):\n",
    "    def __init__(self, length):\n",
    "        # call the constructor of the base class\n",
    "        super().__init__()\n",
    "        self.length = length\n",
    "\n",
    "    def area(self):\n",
    "        return self.length * self.length\n",
    "\n",
    "\n",
    "square = Square(5)\n",
    "\n",
    "print(f\" Area of the square of length 5 is : {square.area()}\")\n"
   ]
  }
 ],
 "metadata": {
  "kernelspec": {
   "display_name": "Python 3",
   "language": "python",
   "name": "python3"
  },
  "language_info": {
   "codemirror_mode": {
    "name": "ipython",
    "version": 3
   },
   "file_extension": ".py",
   "mimetype": "text/x-python",
   "name": "python",
   "nbconvert_exporter": "python",
   "pygments_lexer": "ipython3",
   "version": "3.9.10"
  },
  "orig_nbformat": 4
 },
 "nbformat": 4,
 "nbformat_minor": 2
}
