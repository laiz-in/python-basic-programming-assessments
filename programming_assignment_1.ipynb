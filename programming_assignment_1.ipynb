{
 "cells": [
  {
   "cell_type": "markdown",
   "metadata": {},
   "source": [
    "## Write a Python program to print \"Hello Python\"?\n"
   ]
  },
  {
   "cell_type": "code",
   "execution_count": 1,
   "metadata": {},
   "outputs": [
    {
     "name": "stdout",
     "output_type": "stream",
     "text": [
      "hello world\n"
     ]
    }
   ],
   "source": [
    "print(\"hello world\")"
   ]
  },
  {
   "cell_type": "markdown",
   "metadata": {},
   "source": [
    "## Write a Python program to do arithmetical operations addition and division.?\n"
   ]
  },
  {
   "cell_type": "code",
   "execution_count": 3,
   "metadata": {},
   "outputs": [
    {
     "name": "stdout",
     "output_type": "stream",
     "text": [
      " added sum =  13\n",
      " division =  0.625\n"
     ]
    }
   ],
   "source": [
    "num1=5\n",
    "num2=8\n",
    "\n",
    "addition = num1+num2\n",
    "division = num1/num2\n",
    "print(\" added sum = \", addition)\n",
    "print(\" division = \",division)"
   ]
  },
  {
   "cell_type": "markdown",
   "metadata": {},
   "source": [
    "## Write a Python program to find the area of a triangle?\n"
   ]
  },
  {
   "cell_type": "code",
   "execution_count": 5,
   "metadata": {},
   "outputs": [
    {
     "name": "stdout",
     "output_type": "stream",
     "text": [
      "The area of the triangle is 22.5\n"
     ]
    }
   ],
   "source": [
    "base = float(input(\"enter the base of the traingle \\n \"))\n",
    "height = float(input(\"enter the height of the triangle \\n \"))\n",
    "\n",
    "#area formula= (1/2)*b*h   b= base , h= ehight\n",
    "area = (1/2) * base * height\n",
    "\n",
    "print(f\"The area of the triangle is {area}\")\n"
   ]
  },
  {
   "cell_type": "markdown",
   "metadata": {},
   "source": [
    "## Write a Python program to swap two variables?\n"
   ]
  },
  {
   "cell_type": "code",
   "execution_count": 6,
   "metadata": {},
   "outputs": [
    {
     "name": "stdout",
     "output_type": "stream",
     "text": [
      "before swapping:\n",
      "a = 5\n",
      "b = 8\n",
      "after swapping:\n",
      "a = 8\n",
      "b = 5\n"
     ]
    }
   ],
   "source": [
    "a=5\n",
    "b=8\n",
    "print(\"before swapping:\")\n",
    "print(\"a =\", a)\n",
    "print(\"b =\", b)\n",
    "\n",
    "a = a + b  \n",
    "b = a - b \n",
    "a = a - b  \n",
    "\n",
    "print(\"after swapping:\")\n",
    "print(\"a =\", a)\n",
    "print(\"b =\", b)\n",
    "\n"
   ]
  },
  {
   "cell_type": "markdown",
   "metadata": {},
   "source": [
    "## Write a Python program to generate a random number?"
   ]
  },
  {
   "cell_type": "code",
   "execution_count": 13,
   "metadata": {},
   "outputs": [
    {
     "name": "stdout",
     "output_type": "stream",
     "text": [
      "generated random number is  27\n"
     ]
    }
   ],
   "source": [
    "import random\n",
    "\n",
    "a= random.randint(0,100)\n",
    "#randint(lowerRange, upperRange) . generates a random number between the limits\n",
    "print(\"generated random number is \",a)"
   ]
  }
 ],
 "metadata": {
  "kernelspec": {
   "display_name": "Python 3",
   "language": "python",
   "name": "python3"
  },
  "language_info": {
   "codemirror_mode": {
    "name": "ipython",
    "version": 3
   },
   "file_extension": ".py",
   "mimetype": "text/x-python",
   "name": "python",
   "nbconvert_exporter": "python",
   "pygments_lexer": "ipython3",
   "version": "3.9.10"
  },
  "orig_nbformat": 4
 },
 "nbformat": 4,
 "nbformat_minor": 2
}
