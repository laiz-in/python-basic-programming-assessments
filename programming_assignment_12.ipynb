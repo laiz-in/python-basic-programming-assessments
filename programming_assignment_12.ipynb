{
 "cells": [
  {
   "cell_type": "markdown",
   "metadata": {},
   "source": [
    "## 1 Write a Python program to Extract Unique values dictionary values?\n"
   ]
  },
  {
   "cell_type": "code",
   "execution_count": 2,
   "metadata": {},
   "outputs": [
    {
     "name": "stdout",
     "output_type": "stream",
     "text": [
      " Unique values from dictionary are \n",
      " {(4, 5, 8, 9), (8, 3, 4, 5, 6, 7, 89), (4, 5, 8, 9, 6)}\n"
     ]
    }
   ],
   "source": [
    "\n",
    "dict = {\n",
    "   \"a\" : [4, 5, 8, 9],\n",
    "   \"b\" : [8, 3, 4, 5, 6, 7, 89],\n",
    "   \"c\" : [8, 3, 4, 5, 6, 7, 89],\n",
    "   \"d\" : [8, 3, 4, 5, 6, 7, 89],\n",
    "   \"d\" : [4, 5, 8, 9,6]\n",
    "}\n",
    "UniqueValues = []\n",
    "for values in dict.values():\n",
    "    UniqueValues.append(values)\n",
    "\n",
    "UniqueItems = set(tuple(sublist) for sublist in UniqueValues)\n",
    "print(\" Unique values from dictionary are \\n\",UniqueItems)\n"
   ]
  },
  {
   "cell_type": "markdown",
   "metadata": {},
   "source": [
    "## 2 Write a Python program to find the sum of all items in a dictionary?\n"
   ]
  },
  {
   "cell_type": "code",
   "execution_count": 4,
   "metadata": {},
   "outputs": [
    {
     "name": "stdout",
     "output_type": "stream",
     "text": [
      " Sum of the values in the dict :  140\n"
     ]
    }
   ],
   "source": [
    "dict = {\n",
    "    \"A\" : 58,\n",
    "    \"B\" : 57,\n",
    "    \"C\" : 25\n",
    "}\n",
    "sum=0\n",
    "try:\n",
    "    for values in dict.values():\n",
    "        sum+=values\n",
    "except Exception as e:\n",
    "    print(\" oops some error occured : \",e)\n",
    "print(\" Sum of the values in the dict : \",sum)"
   ]
  },
  {
   "cell_type": "markdown",
   "metadata": {},
   "source": [
    "## 3 Write a Python program to Merging two Dictionaries?\n"
   ]
  },
  {
   "cell_type": "code",
   "execution_count": 19,
   "metadata": {},
   "outputs": [
    {
     "name": "stdout",
     "output_type": "stream",
     "text": [
      " Merged dictionary \n",
      " {'A': 58, 'B': 57, 'C': 25, 'a': [4, 5, 8, 9], 'b': [8, 3, 4, 5, 6, 7, 89], 'c': [8, 3, 4, 5, 6, 7, 89], 'd': [8, 3, 4, 5, 6, 7, 89], 'e': [4, 5, 8, 9, 6]}\n"
     ]
    }
   ],
   "source": [
    "dict1 = {\n",
    "    \"A\" : 58,\n",
    "    \"B\" : 57,\n",
    "    \"C\" : 25\n",
    "}\n",
    "dict2 = {\n",
    "   \"a\" : [4, 5, 8, 9],\n",
    "   \"b\" : [8, 3, 4, 5, 6, 7, 89],\n",
    "   \"c\" : [8, 3, 4, 5, 6, 7, 89],\n",
    "   \"d\" : [8, 3, 4, 5, 6, 7, 89],\n",
    "   \"e\" : [4, 5, 8, 9,6]\n",
    "}\n",
    "# merging the second dictionary to the first dictionary\n",
    "dict1.update(dict2)\n",
    "\n",
    "print(\" Merged dictionary \\n\", dict1)"
   ]
  },
  {
   "cell_type": "markdown",
   "metadata": {},
   "source": [
    "## 4 Write a Python program to convert key-values list to flat dictionary?\n"
   ]
  },
  {
   "cell_type": "code",
   "execution_count": 18,
   "metadata": {},
   "outputs": [
    {
     "name": "stdout",
     "output_type": "stream",
     "text": [
      "Converted flat dictionary is \n",
      " {'name': 'raju', 'age': 30, 'occupation': 'Software Engineer', 'address': ['123 Main Street', 'Anytown, CA 91234']}\n"
     ]
    }
   ],
   "source": [
    "KeyValueList = [\n",
    "    (\"name\", \"raju\"),\n",
    "    (\"age\", 30),\n",
    "    (\"occupation\", \"Software Engineer\"),\n",
    "    (\"address\", [\"123 Main Street\", \"Anytown, CA 91234\"]),\n",
    "]\n",
    "\n",
    "FlatDict = {key: value for key, value in KeyValueList}\n",
    "print(\"Converted flat dictionary is \\n\",FlatDict)"
   ]
  },
  {
   "cell_type": "markdown",
   "metadata": {},
   "source": [
    "## 5 Write a Python program to insertion at the beginning in OrderedDict?\n"
   ]
  },
  {
   "cell_type": "code",
   "execution_count": 42,
   "metadata": {},
   "outputs": [
    {
     "name": "stdout",
     "output_type": "stream",
     "text": [
      " updated dictionary is\n",
      " \n",
      " OrderedDict([('emp_id', 5525561), ('name', 'raju'), ('age', 30), ('occupation', 'Software Engineer'), ('address', ['123 Main Street', 'Anytown, CA 91234'])])\n"
     ]
    }
   ],
   "source": [
    "from collections import OrderedDict\n",
    "dict =  {'name': 'raju',\n",
    "        'age': 30,\n",
    "        'occupation': 'Software Engineer',\n",
    "        'address': ['123 Main Street', 'Anytown, CA 91234']\n",
    "        }\n",
    "# adding a new key value pair to the dictionary\n",
    "dict[\"emp_id\"]=5525561\n",
    "\n",
    "#converting the dictionary into ordered dictionary\n",
    "dict = OrderedDict(dict)\n",
    "\n",
    "#moving the emp_id to the begining of the ordered dictionary   , last= False arg moves to the begining\n",
    "dict.move_to_end(\"emp_id\",last=False)\n",
    "\n",
    "print(\" updated dictionary is\\n \\n\",dict)\n",
    "\n",
    "\n"
   ]
  },
  {
   "cell_type": "markdown",
   "metadata": {},
   "source": [
    "## 6 Write a Python program to check order of character in string using OrderedDict()?\n"
   ]
  },
  {
   "cell_type": "code",
   "execution_count": 45,
   "metadata": {},
   "outputs": [
    {
     "name": "stdout",
     "output_type": "stream",
     "text": [
      "Characters in the string are in order.\n"
     ]
    }
   ],
   "source": [
    "from collections import OrderedDict\n",
    "\n",
    "def CheckOrder(input_string):\n",
    "    char_order = OrderedDict()\n",
    "    for char in input_string:\n",
    "        if char not in char_order:\n",
    "            char_order[char] = None\n",
    "    ordered_chars = \"\".join(char_order.keys())\n",
    "    return input_string == ordered_chars\n",
    "\n",
    "input_string = \"ghjk\"\n",
    "if CheckOrder(input_string):\n",
    "    print(\"Characters in the string are in order.\")\n",
    "else:\n",
    "    print(\"Characters in the string are not in order.\")\n"
   ]
  },
  {
   "cell_type": "markdown",
   "metadata": {},
   "source": [
    "## 7 Write a Python program to sort Python Dictionaries by Key or Value?"
   ]
  },
  {
   "cell_type": "code",
   "execution_count": 57,
   "metadata": {},
   "outputs": [
    {
     "name": "stdout",
     "output_type": "stream",
     "text": [
      "dictionary sorted by values\n",
      " {'a': [4, 5, 8, 9], 'd': [4, 5, 8, 9, 6], 'b': [8, 3, 4, 5, 6, 7, 89], 'c': [8, 3, 4, 5, 6, 7, 89], 'e': [8, 3, 4, 5, 6, 7, 89]}\n",
      "dictionary sorted by keys\n",
      " {'a': [4, 5, 8, 9], 'b': [8, 3, 4, 5, 6, 7, 89], 'c': [8, 3, 4, 5, 6, 7, 89], 'd': [4, 5, 8, 9, 6], 'e': [8, 3, 4, 5, 6, 7, 89]}\n"
     ]
    }
   ],
   "source": [
    "dict = {\n",
    "   \"a\" : [4, 5, 8, 9],\n",
    "   \"b\" : [8, 3, 4, 5, 6, 7, 89],\n",
    "   \"c\" : [8, 3, 4, 5, 6, 7, 89],\n",
    "   \"e\" : [8, 3, 4, 5, 6, 7, 89],\n",
    "   \"d\" : [4, 5, 8, 9,6]\n",
    "}\n",
    "\n",
    "Sorted_dict_values = sorted(dict.items(), key=lambda x: x[1])\n",
    "Sorted_dict_key= sorted(dict.items(), key=lambda x: x[0])\n",
    "\n",
    "\n",
    "SortedValues = {}\n",
    "for key, value in Sorted_dict_values:\n",
    "    SortedValues[key] = value\n",
    "print(\"dictionary sorted by values\\n\",SortedValues)\n",
    "\n",
    "SortedKeys = {}\n",
    "for key, value in Sorted_dict_key:\n",
    "    SortedKeys[key] = value\n",
    "print(\"dictionary sorted by keys\\n\",SortedKeys)\n"
   ]
  }
 ],
 "metadata": {
  "kernelspec": {
   "display_name": "Python 3",
   "language": "python",
   "name": "python3"
  },
  "language_info": {
   "codemirror_mode": {
    "name": "ipython",
    "version": 3
   },
   "file_extension": ".py",
   "mimetype": "text/x-python",
   "name": "python",
   "nbconvert_exporter": "python",
   "pygments_lexer": "ipython3",
   "version": "3.9.10"
  },
  "orig_nbformat": 4
 },
 "nbformat": 4,
 "nbformat_minor": 2
}
