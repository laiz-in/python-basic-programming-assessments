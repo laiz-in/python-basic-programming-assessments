{
 "cells": [
  {
   "cell_type": "markdown",
   "metadata": {},
   "source": [
    "## Question 1:\n",
    "\n",
    "Write a program that calculates and prints the value according to the given formula:\n",
    "\n",
    "Q = Square root of [(2 * C * D)/H]\n",
    "\n",
    "Following are the fixed values of C and H:\n",
    "\n",
    "C is 50. H is 30.\n",
    "\n",
    "D is the variable whose values should be input to your program in a comma-separated sequence.\n",
    "\n",
    "Example\n",
    "\n",
    "Let us assume the following comma separated input sequence is given to the program:\n",
    "\n",
    "100,150,180\n",
    "\n",
    "The output of the program should be:\n",
    "\n",
    "18,22,24"
   ]
  },
  {
   "cell_type": "code",
   "execution_count": 11,
   "metadata": {},
   "outputs": [
    {
     "name": "stdout",
     "output_type": "stream",
     "text": [
      "input sequence is :  100,150,180\n",
      "output sequence is :  18,22,24\n"
     ]
    }
   ],
   "source": [
    "import math\n",
    "\n",
    "C = 50\n",
    "H = 30\n",
    "\n",
    "#define a functionm that takes input values and returns the output of the equation\n",
    "def calculate_Q(D):\n",
    "    Q = math.sqrt((2 * C * D) / H)\n",
    "    return int(Q)\n",
    "\n",
    "#get the input from the user as sequence\n",
    "input_sequence = input(\"Enter comma-separated values of D: \")\n",
    "print(\"input sequence is : \",input_sequence)\n",
    "\n",
    "#split the input to get seperate integers\n",
    "D_values = [int(x) for x in input_sequence.split(',')]\n",
    "\n",
    "#creates a list of each output\n",
    "results = [calculate_Q(D) for D in D_values]\n",
    "\n",
    "# join thw sequence by commas again to make ot comma seperated values\n",
    "output = \",\".join(map(str, results))\n",
    "print(\"output sequence is : \",output)"
   ]
  },
  {
   "cell_type": "markdown",
   "metadata": {},
   "source": [
    "\n",
    "## Question 2:\n",
    "\n",
    "Write a program which takes 2 digits, X,Y as input and generates a 2-dimensional array. The element value in the i-th row and j-th column of the array should be i*j.\n",
    "\n",
    "Note: i=0,1.., X-1; j=0,1,¡­Y-1.\n",
    "\n",
    "Example\n",
    "\n",
    "Suppose the following inputs are given to the program:\n",
    "\n",
    "3,5\n",
    "\n",
    "Then, the output of the program should be:\n",
    "\n",
    "[[0, 0, 0, 0, 0], [0, 1, 2, 3, 4], [0, 2, 4, 6, 8]]\n",
    "\n"
   ]
  },
  {
   "cell_type": "code",
   "execution_count": 20,
   "metadata": {},
   "outputs": [
    {
     "name": "stdout",
     "output_type": "stream",
     "text": [
      "(3, 5)\n",
      " the array is \n",
      " [[0 0 0 0 0]\n",
      " [0 1 2 3 4]\n",
      " [0 2 4 6 8]]\n"
     ]
    }
   ],
   "source": [
    "import numpy\n",
    "x=3\n",
    "y=5\n",
    "\n",
    "# cerates a 2d array using numpy\n",
    "matrix = numpy.array([[i*j for j in range(y)] for i in range(x)])\n",
    "\n",
    "# prints the array shape and array\n",
    "print(matrix.shape)\n",
    "print(\" the array is \\n\",matrix)"
   ]
  },
  {
   "cell_type": "markdown",
   "metadata": {},
   "source": [
    "## Question 3:\n",
    "\n",
    "Write a program that accepts a comma separated sequence of words as input and prints the words in a comma-separated sequence after sorting them alphabetically.\n",
    "\n",
    "Suppose the following input is supplied to the program:\n",
    "\n",
    "without,hello,bag,world\n",
    "\n",
    "Then, the output should be:\n",
    "\n",
    "bag,hello,without,world"
   ]
  },
  {
   "cell_type": "code",
   "execution_count": 31,
   "metadata": {},
   "outputs": [
    {
     "name": "stdout",
     "output_type": "stream",
     "text": [
      "the input sequence         :  without,hellooo,bag,world\n",
      "the sorted output sequence :  bag,hellooo,without,world\n"
     ]
    }
   ],
   "source": [
    "csv = input(\"ENTER THE WORDS SEPERATED BY COMMA\")\n",
    "print(\"the input sequence         : \",csv)\n",
    "csv_list = csv.split(\",\")\n",
    "csv_list.sort()\n",
    "csv_list  = \",\".join(csv_list)\n",
    "print(\"the sorted output sequence : \",csv_list)"
   ]
  },
  {
   "cell_type": "markdown",
   "metadata": {},
   "source": [
    "## Question 4:\n",
    "\n",
    "Write a program that accepts a sequence of whitespace separated words as input and prints the words after removing all duplicate words and sorting them alphanumerically.\n",
    "\n",
    "Suppose the following input is supplied to the program:\n",
    "\n",
    "hello world and practice makes perfect and hello world again\n",
    "\n",
    "Then, the output should be:\n",
    "\n",
    "again and hello makes perfect practice world"
   ]
  },
  {
   "cell_type": "code",
   "execution_count": 25,
   "metadata": {},
   "outputs": [
    {
     "name": "stdout",
     "output_type": "stream",
     "text": [
      "sentence before sorting words and removing duplicates :  hello world and practice makes perfect and hello world again\n",
      "sentence after sorting words and removing duplicates  :  again and hello makes perfect practice world\n"
     ]
    }
   ],
   "source": [
    "sentence = \"hello world and practice makes perfect and hello world again\"\n",
    "print(\"sentence before sorting words and removing duplicates : \",sentence)\n",
    "# split the sentence to take out all the words\n",
    "words = sentence.split(\" \")\n",
    "\n",
    "# convert it into a set to remove all the duplicate elements\n",
    "unique_words = set(words)\n",
    "\n",
    "# sort the unique words alphanumerically\n",
    "sorted_words = sorted(unique_words)\n",
    "\n",
    "# join the sorted words into a sentence\n",
    "sentence = ' '.join(sorted_words)\n",
    "\n",
    "print(\"sentence after sorting words and removing duplicates  : \",sentence)"
   ]
  },
  {
   "cell_type": "markdown",
   "metadata": {},
   "source": [
    "## Question 5:\n",
    "\n",
    "Write a program that accepts a sentence and calculate the number of letters and digits.\n",
    "\n",
    "Suppose the following input is supplied to the program:\n",
    "\n",
    "hello world! 123\n",
    "\n",
    "Then, the output should be:\n",
    "\n",
    "LETTERS 10\n",
    "\n",
    "DIGITS 3"
   ]
  },
  {
   "cell_type": "code",
   "execution_count": 32,
   "metadata": {},
   "outputs": [
    {
     "name": "stdout",
     "output_type": "stream",
     "text": [
      "\n",
      "Entered sentence is : hello world! 123\n",
      "Number of letters   :  10\n",
      "Number of Digits    :  3\n"
     ]
    }
   ],
   "source": [
    "sentence = str(input(\"Please enter the senetnce\\n\"))\n",
    "print(\"\\nEntered sentence is :\",sentence)\n",
    "NumberOfLetters = 0\n",
    "NumberOfDigits = 0\n",
    "\n",
    "for letter in sentence:\n",
    "    if letter.isalpha():\n",
    "        NumberOfLetters+=1\n",
    "    elif letter.isdigit():\n",
    "        NumberOfDigits+=1\n",
    "    else:\n",
    "        pass\n",
    "print(\"Number of letters   : \",NumberOfLetters)\n",
    "print(\"Number of Digits    : \",NumberOfDigits)"
   ]
  },
  {
   "cell_type": "markdown",
   "metadata": {},
   "source": [
    "## Question 6:\n",
    "\n",
    "A website requires the users to input username and password to register. Write a program to check the validity of password input by users.\n",
    "\n",
    "Following are the criteria for checking the password:\n",
    "\n",
    "1. At least 1 letter between [a-z]\n",
    "\n",
    "2. At least 1 number between [0-9]\n",
    "\n",
    "1. At least 1 letter between [A-Z]\n",
    "\n",
    "3. At least 1 character from [$#@]\n",
    "\n",
    "4. Minimum length of transaction password: 6\n",
    "\n",
    "5. Maximum length of transaction password: 12\n",
    "\n",
    "Your program should accept a sequence of comma separated passwords and will check them according to the above criteria. Passwords that match the criteria are to be printed, each separated by a comma.\n",
    "\n",
    "Example\n",
    "\n",
    "If the following passwords are given as input to the program:\n",
    "\n",
    "ABd1234@1,a F1#,2w3E*,2We3345\n",
    "\n",
    "Then, the output of the program should be:\n",
    "\n",
    "ABd1234@1"
   ]
  },
  {
   "cell_type": "code",
   "execution_count": 59,
   "metadata": {},
   "outputs": [
    {
     "name": "stdout",
     "output_type": "stream",
     "text": [
      "\n",
      "Entered sequence of passwords are :  PJJgg@#22,sdfbw6326,34734ggg,297GFGcc,RTFfd@#2\n",
      "\n",
      "Matched passwords are :  PJJgg@#22,RTFfd@#2\n"
     ]
    }
   ],
   "source": [
    "import re\n",
    "# import regex\n",
    "\n",
    "# accept the input from user\n",
    "InputSequence = str(input(\"Enter the comma seperated sequence of inputs\\n \"))\n",
    "# just print out the input for user\n",
    "print(\"\\nEntered sequence of passwords are : \",InputSequence)\n",
    "\n",
    "# split the sequence by commas to take out all the passowrds in it\n",
    "InputPasswords = InputSequence.split(\",\")\n",
    "\n",
    "# define a regex to match the password according to the given criterias\n",
    "pattern = r\"^(?=.*[@#$])(?=.*[A-Z])(?=.*[a-z])(?=.*\\d)[@#$A-Za-z\\d]{6,12}$\"\n",
    "\n",
    "# define an empty list to store the matched passwords\n",
    "MatchedPasswords = []\n",
    "\n",
    "# define a fucntion to check the password is matching or not , the function will take the regex pattern and password as arguments\n",
    "def CheckPassword(EachPassword,pattern):\n",
    "    if re.match(pattern,EachPassword):\n",
    "        MatchedPasswords.append(EachPassword)\n",
    "\n",
    "# iterate through the list of passwords and call the function we have defined to check each passwords\n",
    "for EachPassword in InputPasswords:\n",
    "    CheckPassword(EachPassword,pattern)\n",
    "\n",
    "# join the list bak by comma seperated values\n",
    "FinalResult = \",\".join(MatchedPasswords)\n",
    "\n",
    "# check if the results are none or not, if not none then print out the results\n",
    "if MatchedPasswords:\n",
    "    print(\"\\nMatched passwords are : \",FinalResult)\n",
    "else:\n",
    "    print(\"\\nSorry , no passwords are matching\")\n",
    "\n"
   ]
  }
 ],
 "metadata": {
  "kernelspec": {
   "display_name": "Python 3",
   "language": "python",
   "name": "python3"
  },
  "language_info": {
   "codemirror_mode": {
    "name": "ipython",
    "version": 3
   },
   "file_extension": ".py",
   "mimetype": "text/x-python",
   "name": "python",
   "nbconvert_exporter": "python",
   "pygments_lexer": "ipython3",
   "version": "3.9.10"
  },
  "orig_nbformat": 4
 },
 "nbformat": 4,
 "nbformat_minor": 2
}
