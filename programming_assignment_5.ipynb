{
 "cells": [
  {
   "cell_type": "markdown",
   "metadata": {},
   "source": [
    "## 1. Write a Python Program to Find LCM?\n"
   ]
  },
  {
   "cell_type": "code",
   "execution_count": 3,
   "metadata": {},
   "outputs": [
    {
     "name": "stdout",
     "output_type": "stream",
     "text": [
      "the smallest positive integer that is divisible by both 8 and 16 is 16\n"
     ]
    }
   ],
   "source": [
    "# this function calculates greatest common divisor\n",
    "def gcd(a, b):\n",
    "    while b:\n",
    "        a, b = b, a % b\n",
    "    return a\n",
    "\n",
    "#this function calculates least common multiplier\n",
    "\n",
    "def lcm(a, b):\n",
    "    return (a * b) // gcd(a, b)\n",
    "\n",
    "num1 = int(input(\"ENTER FIRST NUMBER \"))\n",
    "num2 = int(input(\"ENTER SECOND NUMBER \"))\n",
    "\n",
    "result = lcm(num1, num2)\n",
    "print(f\"the smallest positive integer that is divisible by both {num1} and {num2} is {result}\")\n"
   ]
  },
  {
   "cell_type": "markdown",
   "metadata": {},
   "source": [
    "## 2.Write a Python Program to Find HCF?\n"
   ]
  },
  {
   "cell_type": "code",
   "execution_count": 4,
   "metadata": {},
   "outputs": [
    {
     "name": "stdout",
     "output_type": "stream",
     "text": [
      "The highest common factor (HCF) of 5 and 6 is 1\n"
     ]
    }
   ],
   "source": [
    "## this function calculates greatest common divisor\n",
    "\n",
    "def gcd(a, b):\n",
    "    while b:\n",
    "        a, b = b, a % b\n",
    "    return a\n",
    "\n",
    "num1 = int(input(\"ENTER FIRST NUMBER \"))\n",
    "num2 = int(input(\"ENTER SECOND NUMBER \"))\n",
    "\n",
    "result = gcd(num1, num2)\n",
    "print(f\"The highest common factor (HCF) of {num1} and {num2} is {result}\")\n"
   ]
  },
  {
   "cell_type": "markdown",
   "metadata": {},
   "source": [
    "## 3.Write a Python Program to Convert Decimal to Binary, Octal and Hexadecimal?\n"
   ]
  },
  {
   "cell_type": "code",
   "execution_count": 6,
   "metadata": {},
   "outputs": [
    {
     "name": "stdout",
     "output_type": "stream",
     "text": [
      "Binary: 0b1000\n",
      "Octal: 0o10\n",
      "Hexadecimal: 0x8\n"
     ]
    }
   ],
   "source": [
    "decimal = int(input(\"ENTER A DECIMEL VALUE \"))\n",
    "\n",
    "binary = bin(decimal)\n",
    "# bin() function gives the binary of the decimal\n",
    "\n",
    "octal = oct(decimal)\n",
    "# oct() fucntion gives the octal value of a number\n",
    "\n",
    "hexadecimal = hex(decimal)\n",
    "# hex() fucntion gives the hexadecimal value of the number\n",
    "\n",
    "print(f\"Binary: {binary}\")\n",
    "print(f\"Octal: {octal}\")\n",
    "print(f\"Hexadecimal: {hexadecimal}\")\n"
   ]
  },
  {
   "cell_type": "markdown",
   "metadata": {},
   "source": [
    "## 4.Write a Python Program To Find ASCII value of a character?\n"
   ]
  },
  {
   "cell_type": "code",
   "execution_count": 9,
   "metadata": {},
   "outputs": [
    {
     "name": "stdout",
     "output_type": "stream",
     "text": [
      "ASCII value of 'A' is 65\n"
     ]
    }
   ],
   "source": [
    "char = input(\"ENTER THE CHARACTER\")\n",
    "ascii_value = ord(char)\n",
    "# ord() fucntion gives the ASCII of the character\n",
    "\n",
    "print(f\"ASCII value of '{char}' is {ascii_value}\")\n"
   ]
  },
  {
   "cell_type": "markdown",
   "metadata": {},
   "source": [
    "## 5.Write a Python Program to Make a Simple Calculator with 4 basic mathematical operations?"
   ]
  },
  {
   "cell_type": "code",
   "execution_count": 24,
   "metadata": {},
   "outputs": [
    {
     "name": "stdout",
     "output_type": "stream",
     "text": [
      "2556.355*955.3 = 2442085.9315\n"
     ]
    }
   ],
   "source": [
    "# WE CAN ALSO DO THIS BY BASIC IF ELSE STATEMENT\n",
    "# BUT HERE , USING REGEX CAN ALLOW USER TO ENTER THE WHOLE OPERATION AS ONE INPUT ONLY\n",
    "\n",
    "import re\n",
    "def calculate(expression):\n",
    "  # split the expression into the two numbers and the operator\n",
    "  match = re.match(r\"^(\\d+(?:\\.\\d+)?)([\\+\\-*/])(\\d+(?:\\.\\d+)?)$\", expression)\n",
    "  if match is None:\n",
    "    raise ValueError(\"Invalid expression.\")\n",
    "\n",
    "  num1 = float(match.group(1))\n",
    "  num2 = float(match.group(3))\n",
    "  operator = match.group(2)\n",
    "\n",
    "  if operator == \"+\":\n",
    "    return num1 + num2\n",
    "  elif operator == \"-\":\n",
    "    return num1 - num2\n",
    "  elif operator == \"*\":\n",
    "    return num1 * num2\n",
    "  elif operator == \"/\":\n",
    "    return num1 / num2\n",
    "  else:\n",
    "    raise ValueError(\"Invalid operator.\")\n",
    "string = str(input(\" JUST ENTER YOUR OPERATION \"))\n",
    "print(f\"{string} = {calculate(string)}\")"
   ]
  }
 ],
 "metadata": {
  "kernelspec": {
   "display_name": "Python 3",
   "language": "python",
   "name": "python3"
  },
  "language_info": {
   "codemirror_mode": {
    "name": "ipython",
    "version": 3
   },
   "file_extension": ".py",
   "mimetype": "text/x-python",
   "name": "python",
   "nbconvert_exporter": "python",
   "pygments_lexer": "ipython3",
   "version": "3.9.10"
  },
  "orig_nbformat": 4
 },
 "nbformat": 4,
 "nbformat_minor": 2
}
