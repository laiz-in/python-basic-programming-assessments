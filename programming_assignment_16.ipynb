{
 "cells": [
  {
   "cell_type": "markdown",
   "metadata": {},
   "source": [
    "## Question1.\n",
    " Write a function that stutters a word as if someone is struggling to read it. The first two letters are repeated twice with an ellipsis ... and space after each, and then the word is pronounced with a question mark ?.\n",
    "\n",
    "Examples\n",
    "\n",
    "stutter(\"incredible\") ➞ \"in... in... incredible?\"\n",
    "\n",
    "stutter(\"enthusiastic\") ➞ \"en... en... enthusiastic?\"\n",
    "\n",
    "stutter(\"outstanding\") ➞ \"ou... ou... outstanding?\"\n",
    "\n",
    "Hint :- Assume all input is in lower case and at least two characters long"
   ]
  },
  {
   "cell_type": "code",
   "execution_count": 66,
   "metadata": {},
   "outputs": [
    {
     "name": "stdout",
     "output_type": "stream",
     "text": [
      " 'outstanding' AFTER STUTTERING IS : ou.. ou.. outstanding?\n"
     ]
    }
   ],
   "source": [
    "def Stutter(inputString):\n",
    "    # create a seperate string by concatenating the creterias as our need\n",
    "    StutteredWord = (inputString[:2])+\".. \"+(inputString[:2])+\".. \"+inputString+'?'\n",
    "    return StutteredWord\n",
    "\n",
    "\n",
    "\n",
    "inputString = \"outstanding\"\n",
    "if len(inputString)>=2:\n",
    "    print(f\" '{input}' AFTER STUTTERING IS : {Stutter(inputString)}\")\n",
    "else:\n",
    "    print(\" length of the input should be 2 or more !\")\n"
   ]
  },
  {
   "cell_type": "markdown",
   "metadata": {},
   "source": [
    "## Question 2\n",
    "Create a function that takes an angle in radians and returns the corresponding angle in degrees rounded to one decimal place.\n",
    "\n",
    "Examples\n",
    "radians_to_degrees(1) ➞ 57.3\n",
    "\n",
    "radians_to_degrees(20) ➞ 1145.9\n",
    "\n",
    "radians_to_degrees(50) ➞ 2864.8"
   ]
  },
  {
   "cell_type": "code",
   "execution_count": 67,
   "metadata": {},
   "outputs": [
    {
     "name": "stdout",
     "output_type": "stream",
     "text": [
      " 20 radians is 1145.9 degrees\n"
     ]
    }
   ],
   "source": [
    "import math\n",
    "#import math module to perform the function easily\n",
    "\n",
    "# create a function that can\n",
    "def RadiansToDegrees(radians):\n",
    "    # math.degrees() function returns the degrees of the given angle in radians\n",
    "    degrees = math.degrees(radians)\n",
    "    return round(degrees, 1)\n",
    "\n",
    "\n",
    "\n",
    "Angle = 20\n",
    "print(f\" {Angle} radians is {RadiansToDegrees(Angle)} degrees\")\n"
   ]
  },
  {
   "cell_type": "markdown",
   "metadata": {},
   "source": [
    "## Question 3.\n",
    " In this challenge, establish if a given integer num is a Curzon number. If 1 plus 2 elevated to num is exactly divisible by 1 plus 2 multiplied by num, then num is a Curzon number.\n",
    "\n",
    "Given a non-negative integer num, implement a function that returns True if num is a Curzon number, or False otherwise.\n",
    "\n",
    "Examples\n",
    "is_curzon(5) ➞ True\n",
    "\n",
    "2 ** 5 + 1 = 33\n",
    "\n",
    "2 * 5 + 1 = 11\n",
    "\n",
    "33 is a multiple of 11\n",
    "\n",
    "is_curzon(10) ➞ False\n",
    "\n",
    "2 ** 10 + 1 = 1025\n",
    "\n",
    "2 * 10 + 1 = 21\n",
    "\n",
    "1025 is not a multiple of 21\n",
    "\n",
    "is_curzon(14) ➞ True\n",
    "\n",
    "2 ** 14 + 1 = 16385\n",
    "\n",
    "2 * 14 + 1 = 29\n",
    "\n",
    "16385 is a multiple of 29"
   ]
  },
  {
   "cell_type": "markdown",
   "metadata": {},
   "source": [
    ">A Curzon number is a positive integer n for which 2n + 1 is evenly divisible by 2 × n + 1."
   ]
  },
  {
   "cell_type": "code",
   "execution_count": 68,
   "metadata": {},
   "outputs": [
    {
     "name": "stdout",
     "output_type": "stream",
     "text": [
      "N= 18 \n",
      "2**18+1 = 262145 AND 2*18+1 = 37 , and 262145 is evenly divisable by 37 \n",
      "ITS A CURZON NUMBER !!\n"
     ]
    }
   ],
   "source": [
    "import math\n",
    "\n",
    "def Curzon(n):\n",
    "    # this fucntion returns true if the condition is true\n",
    "    return ((2**n)+1) % ((2*n)+1)==0\n",
    "    \n",
    "n=18\n",
    "\n",
    "if Curzon(n): \n",
    "    print(f\"N= {n} \\n2**{n}+1 = {2**n+1} AND 2*{n}+1 = {(2*n)+1} , and {(2**n )+1} is evenly divisable by {(2*n)+1} \\nITS A CURZON NUMBER !!\")\n",
    "else:\n",
    "    print(f\"N= {n} \\n2**{n}+1 = {2**n+1} AND 2*{n}+1 = {(2*n)+1} , and {(2**n )+1} is NOT evenly divisable by {(2*n)+1} \\nITS NOT A CURZON NUMBER !!\")\n"
   ]
  },
  {
   "cell_type": "markdown",
   "metadata": {},
   "source": [
    "## Question 4.Given the side length x find the area of a hexagon.\n",
    "\n",
    "Formula to find the area of a hexagon\n",
    "\n",
    "Examples\n",
    "area_of_hexagon(1) ➞ 2.6\n",
    "\n",
    "area_of_hexagon(2) ➞ 10.4\n",
    "\n",
    "area_of_hexagon(3) ➞ 23.4"
   ]
  },
  {
   "cell_type": "code",
   "execution_count": 10,
   "metadata": {},
   "outputs": [
    {
     "name": "stdout",
     "output_type": "stream",
     "text": [
      "Area of the hexagon of side 2 : 10.392304845413264\n"
     ]
    }
   ],
   "source": [
    "import math\n",
    "\n",
    "x = int(input(\"Enter the side length of the hexagon: \"))\n",
    "\n",
    "def AreaOfHexagon(x):\n",
    "    area = (3 * math.sqrt(3) / 2) * (x ** 2)\n",
    "    return area\n",
    "\n",
    "hexagon_area = AreaOfHexagon(x)\n",
    "print(f\"Area of the hexagon of side {x} : {hexagon_area}\")\n"
   ]
  },
  {
   "cell_type": "markdown",
   "metadata": {},
   "source": [
    "## Question 5.\n",
    " Create a function that returns a base-2 (binary) representation of a base-10 (decimal) string number. To convert is simple: ((2) means base-2 and (10) means base-10) 010101001(2) = 1 + 8 + 32 + 128.\n",
    "\n",
    "Going from right to left, the value of the most right bit is 1, now from that every bit to the left will be x2 the value, value of an 8 bit binary numbers are (256, 128, 64, 32, 16, 8, 4, 2, 1).\n",
    "\n",
    "Examples\n",
    "binary(1) ➞ \"1\"\n",
    "\n",
    "# 1*1 = 1\n",
    "\n",
    "binary(5) ➞ \"101\"\n",
    "\n",
    "# 1*1 + 1*4 = 5\n",
    "\n",
    "binary(10) ➞ \"1010\"\n",
    "\n",
    "# 1*2 + 1*8 = 10"
   ]
  },
  {
   "cell_type": "code",
   "execution_count": 14,
   "metadata": {},
   "outputs": [
    {
     "name": "stdout",
     "output_type": "stream",
     "text": [
      " binary representation 10 is : 1010\n"
     ]
    }
   ],
   "source": [
    "def binary(decimal):\n",
    "    # if the decimeal is 0 , then return 0\n",
    "    if decimal == 0:\n",
    "        return \"0\"\n",
    "    \n",
    "    # creates an empty string\n",
    "    binary_str = \"\"\n",
    "    while decimal > 0:\n",
    "        remainder = decimal % 2\n",
    "        binary_str = str(remainder) + binary_str\n",
    "        decimal = decimal // 2\n",
    "    \n",
    "    return binary_str\n",
    "\n",
    "decBase10 = 10\n",
    "print(f\" binary representation {decBase10} is : {binary(decBase10)}\")"
   ]
  }
 ],
 "metadata": {
  "kernelspec": {
   "display_name": "Python 3",
   "language": "python",
   "name": "python3"
  },
  "language_info": {
   "codemirror_mode": {
    "name": "ipython",
    "version": 3
   },
   "file_extension": ".py",
   "mimetype": "text/x-python",
   "name": "python",
   "nbconvert_exporter": "python",
   "pygments_lexer": "ipython3",
   "version": "3.9.10"
  },
  "orig_nbformat": 4
 },
 "nbformat": 4,
 "nbformat_minor": 2
}
