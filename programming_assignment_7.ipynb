{
 "cells": [
  {
   "cell_type": "markdown",
   "metadata": {},
   "source": [
    "## 1. Write a Python Program to find sum of array?\n"
   ]
  },
  {
   "cell_type": "code",
   "execution_count": 2,
   "metadata": {},
   "outputs": [
    {
     "name": "stdout",
     "output_type": "stream",
     "text": [
      "Sum of the array :  15\n"
     ]
    }
   ],
   "source": [
    "def ArraySum(arr):\n",
    "    return sum(arr)\n",
    "    # just use sum() function\n",
    "\n",
    "\n",
    "array = [1, 2, 3, 4, 5]\n",
    "SomeofAllNumbers = ArraySum(array)\n",
    "print(\"Sum of the array : \", SomeofAllNumbers)\n"
   ]
  },
  {
   "cell_type": "markdown",
   "metadata": {},
   "source": [
    "## 2.Write a Python Program to find largest element in an array?\n"
   ]
  },
  {
   "cell_type": "code",
   "execution_count": 3,
   "metadata": {},
   "outputs": [
    {
     "name": "stdout",
     "output_type": "stream",
     "text": [
      "Largest element in the array is :  67\n"
     ]
    }
   ],
   "source": [
    "def LargestElements(array):\n",
    "    return max(array)\n",
    "\n",
    "array = [3,5,5,67,8,54,4,6,8,9]\n",
    "\n",
    "print(\"Largest element in the array is : \",LargestElements(array))"
   ]
  },
  {
   "cell_type": "markdown",
   "metadata": {},
   "source": [
    "## 3.Write a Python Program for array rotation?\n"
   ]
  },
  {
   "cell_type": "markdown",
   "metadata": {},
   "source": [
    ">Array rotation in Python is the process of shifting the elements of an array by a specified number of position"
   ]
  },
  {
   "cell_type": "code",
   "execution_count": 5,
   "metadata": {},
   "outputs": [
    {
     "name": "stdout",
     "output_type": "stream",
     "text": [
      "Rotated array: [8, 9, 3, 5, 5, 67, 8, 54, 4, 6]\n"
     ]
    }
   ],
   "source": [
    "def ArrayRotation(array, k):\n",
    "    n = len(array)\n",
    "    k %= n \n",
    "    return array[-k:] + array[:-k]\n",
    "\n",
    "array = [3,5,5,67,8,54,4,6,8,9]\n",
    "k = 2\n",
    "RotatedArray = ArrayRotation(array, k)\n",
    "print(\"Rotated array:\", RotatedArray)\n"
   ]
  },
  {
   "cell_type": "markdown",
   "metadata": {},
   "source": [
    "##  4.Write a Python Program to Split the array and add the first part to the end?\n"
   ]
  },
  {
   "cell_type": "code",
   "execution_count": 9,
   "metadata": {},
   "outputs": [
    {
     "name": "stdout",
     "output_type": "stream",
     "text": [
      "Modified array :  [54, 4, 6, 8, 9, 3, 5, 5, 67, 8, 54, 4, 6, 8, 9]\n"
     ]
    }
   ],
   "source": [
    "def SplitAdd(array, index):\n",
    "    return array[split_index:] + array\n",
    "    #take out the first part and adding it into the end \n",
    "array = [3,5,5,67,8,54,4,6,8,9]\n",
    "split_index = round(len(array)/2) \n",
    "#split the array to half\n",
    "\n",
    "result = SplitAdd(array, split_index)\n",
    "print(\"Modified array : \", result)\n"
   ]
  },
  {
   "cell_type": "markdown",
   "metadata": {},
   "source": [
    "## 5.Write a Python Program to check if given array is Monotonic?"
   ]
  },
  {
   "cell_type": "markdown",
   "metadata": {},
   "source": [
    ">A monotonic array is an array in which the elements are either in increasing or decreasing order"
   ]
  },
  {
   "cell_type": "code",
   "execution_count": 12,
   "metadata": {},
   "outputs": [
    {
     "name": "stdout",
     "output_type": "stream",
     "text": [
      "ARRAY 1 IS MONOTONIC\n",
      "ARRAY 2 IS MONOTONIC\n",
      "ARRAY 3 IS NOT MONOTONIC\n"
     ]
    }
   ],
   "source": [
    "def is_monotonic(arr):\n",
    "    increasing = decreasing = True\n",
    "    \n",
    "    for i in range(1, len(arr)):\n",
    "        if arr[i - 1] > arr[i]:\n",
    "            increasing = False\n",
    "        if arr[i - 1] < arr[i]:\n",
    "            decreasing = False\n",
    "\n",
    "    return increasing or decreasing\n",
    "\n",
    "\n",
    "array1 = [1, 2, 3, 4, 5]\n",
    "array2 = [5, 4, 3, 2, 1]\n",
    "array3 = [1, 2, 2, 3, 2]\n",
    "\n",
    "print(\"ARRAY 1 IS MONOTONIC\" if is_monotonic(array1) else \"ARRAY 1 IS NOT MONOTONIC\")\n",
    "print(\"ARRAY 2 IS MONOTONIC\" if is_monotonic(array2) else \"ARRAY 2 IS NOT MONOTONIC\")\n",
    "print(\"ARRAY 3 IS MONOTONIC\" if is_monotonic(array3) else \"ARRAY 3 IS NOT MONOTONIC\")\n"
   ]
  }
 ],
 "metadata": {
  "kernelspec": {
   "display_name": "Python 3",
   "language": "python",
   "name": "python3"
  },
  "language_info": {
   "codemirror_mode": {
    "name": "ipython",
    "version": 3
   },
   "file_extension": ".py",
   "mimetype": "text/x-python",
   "name": "python",
   "nbconvert_exporter": "python",
   "pygments_lexer": "ipython3",
   "version": "3.9.10"
  },
  "orig_nbformat": 4
 },
 "nbformat": 4,
 "nbformat_minor": 2
}
