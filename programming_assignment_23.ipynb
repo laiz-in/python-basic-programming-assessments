{
 "cells": [
  {
   "cell_type": "markdown",
   "metadata": {},
   "source": [
    "## Question 1\n",
    "\n",
    "Create a function that takes a number as an argument and returns True or False depending on whether the number is symmetrical or not. A number is symmetrical when it is the same as its reverse.\n",
    "\n",
    "Examples\n",
    "\n",
    "is_symmetrical(7227) ➞ True\n",
    "\n",
    "is_symmetrical(12567) ➞ False\n",
    "\n",
    "is_symmetrical(44444444) ➞ True\n",
    "\n",
    "is_symmetrical(9939) ➞ False\n",
    "\n",
    "is_symmetrical(1112111) ➞ True"
   ]
  },
  {
   "cell_type": "code",
   "execution_count": 2,
   "metadata": {},
   "outputs": [
    {
     "name": "stdout",
     "output_type": "stream",
     "text": [
      " 7227 is symmetrical?? True\n"
     ]
    }
   ],
   "source": [
    "# define a fucntion that takes anum as arg and returns true if tis symmetrical\n",
    "\n",
    "def IsSymmetrical(num):\n",
    "    # convert num itno str datatype\n",
    "    num_str = str(num)\n",
    "    return num_str == num_str[::-1]\n",
    "\n",
    "\n",
    "num = 7227\n",
    "print(f\" {num} is symmetrical?? {IsSymmetrical(num)}\")      \n"
   ]
  },
  {
   "cell_type": "markdown",
   "metadata": {},
   "source": [
    "## Question 2\n",
    "\n",
    "Given a string of numbers separated by a comma and space, return the product of the numbers.\n",
    "\n",
    "Examples\n",
    "multiply_nums(\"2, 3\") ➞ 6\n",
    "\n",
    "multiply_nums(\"1, 2, 3, 4\") ➞ 24\n",
    "\n",
    "multiply_nums(\"54, 75, 453, 0\") ➞ 0\n",
    "\n",
    "multiply_nums(\"10, -2\") ➞ -20"
   ]
  },
  {
   "cell_type": "code",
   "execution_count": 7,
   "metadata": {},
   "outputs": [
    {
     "name": "stdout",
     "output_type": "stream",
     "text": [
      " Product of the numbers in this comma-space string is  630\n"
     ]
    }
   ],
   "source": [
    "# define a funtion that takes a comma space seprated string of numbers as argument and return its product\n",
    "\n",
    "def MultiplyNum(nums_str):\n",
    "    # iterate through the string and extract all the numbers in it\n",
    "    nums = [int(num) for num in nums_str.split(\", \")]\n",
    "    result = 1\n",
    "    for num in nums:\n",
    "        result *= num\n",
    "    return result\n",
    "\n",
    "inputstring = \"3, 5, 6, 7\"\n",
    "print(\" Product of the numbers in this comma-space string is \",MultiplyNum(inputstring))          \n",
    "\n"
   ]
  },
  {
   "cell_type": "markdown",
   "metadata": {},
   "source": [
    "## Question 3\n",
    "\n",
    "Create a function that squares every digit of a number.\n",
    "\n",
    "Examples\n",
    "square_digits(9119) ➞ 811181\n",
    "\n",
    "square_digits(2483) ➞ 416649\n",
    "\n",
    "square_digits(3212) ➞ 9414\n",
    "\n",
    "Notes\n",
    "The function receives an integer and must return an integer."
   ]
  },
  {
   "cell_type": "code",
   "execution_count": 11,
   "metadata": {},
   "outputs": [
    {
     "name": "stdout",
     "output_type": "stream",
     "text": [
      " Product of the all digits in the given number is  811181\n"
     ]
    }
   ],
   "source": [
    "# define a fucntion thatb takes the num as input and returns products of every digit in that number \n",
    "def SquareDigits(num):\n",
    "    # convert that num into string to extract each digits\n",
    "    num_str = str(num)\n",
    "\n",
    "    # define an empty string\n",
    "    result = ''\n",
    "\n",
    "    for digit in num_str:\n",
    "        squared_digit = int(digit) ** 2\n",
    "        result += str(squared_digit)\n",
    "    return int(result)\n",
    "    # specify that type integer while returning\n",
    "\n",
    "\n",
    "num = 9119\n",
    "print(\" Product of the all digits in the given number is \",SquareDigits(num)) \n",
    "\n"
   ]
  },
  {
   "cell_type": "markdown",
   "metadata": {},
   "source": [
    "## Question 4\n",
    "\n",
    "Create a function that sorts a list and removes all duplicate items from it.\n",
    "\n",
    "Examples\n",
    "setify([1, 3, 3, 5, 5]) ➞ [1, 3, 5]\n",
    "\n",
    "setify([4, 4, 4, 4]) ➞ [4]\n",
    "\n",
    "setify([5, 7, 8, 9, 10, 15]) ➞ [5, 7, 8, 9, 10, 15]\n",
    "\n",
    "setify([3, 3, 3, 2, 1]) ➞ [1, 2, 3]"
   ]
  },
  {
   "cell_type": "code",
   "execution_count": 13,
   "metadata": {},
   "outputs": [
    {
     "name": "stdout",
     "output_type": "stream",
     "text": [
      " List after removing all the duplicate elements from the list [1, 3, 5]\n"
     ]
    }
   ],
   "source": [
    "# define a fucntion to take lsit and return after removing all duplicate elements\n",
    "def UnDuplicator(mylist):\n",
    "    return list(set(mylist))\n",
    "\n",
    "mylist = [1, 3, 3, 5, 5]\n",
    "print(\" List after removing all the duplicate elements from the list\" ,UnDuplicator(mylist)) "
   ]
  },
  {
   "cell_type": "markdown",
   "metadata": {},
   "source": [
    "## Question 5\n",
    "\n",
    "Create a function that returns the mean of all digits.\n",
    "\n",
    "Examples\n",
    "mean(42) ➞ 3\n",
    "\n",
    "mean(12345) ➞ 3\n",
    "\n",
    "mean(666) ➞ 6\n",
    "\n",
    "Notes\n",
    "The mean of all digits is the sum of digits / how many digits there are (e.g. mean of digits in 512 is (5+1+2)/3(number of digits) = 8/3=2).\n",
    "The mean will always be an intege"
   ]
  },
  {
   "cell_type": "code",
   "execution_count": 16,
   "metadata": {},
   "outputs": [
    {
     "name": "stdout",
     "output_type": "stream",
     "text": [
      " the mean of all digits in 12345 is : 3\n"
     ]
    }
   ],
   "source": [
    "# define a fucntion that atkes a number as input and return the mean of all  digits in that list\n",
    "\n",
    "def mean(num):\n",
    "    # convert the number into a list\n",
    "    num_str = str(num)\n",
    "\n",
    "    # iterate through the number to extract all digits\n",
    "    digits = [int(digit) for digit in num_str]\n",
    "    return sum(digits) // len(digits)\n",
    "\n",
    "num = 12345\n",
    "print(f\" the mean of all digits in {num} is : {mean(num)}\") "
   ]
  }
 ],
 "metadata": {
  "kernelspec": {
   "display_name": "Python 3",
   "language": "python",
   "name": "python3"
  },
  "language_info": {
   "codemirror_mode": {
    "name": "ipython",
    "version": 3
   },
   "file_extension": ".py",
   "mimetype": "text/x-python",
   "name": "python",
   "nbconvert_exporter": "python",
   "pygments_lexer": "ipython3",
   "version": "3.9.10"
  },
  "orig_nbformat": 4
 },
 "nbformat": 4,
 "nbformat_minor": 2
}
