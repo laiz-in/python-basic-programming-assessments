{
 "cells": [
  {
   "cell_type": "markdown",
   "metadata": {},
   "source": [
    "## 1 Write a Python Program to Add Two Matrices?\n"
   ]
  },
  {
   "cell_type": "markdown",
   "metadata": {},
   "source": [
    "> WE CAN JUST SIMPLY USE NUMPY TO DO MATRIX OPERATIONS"
   ]
  },
  {
   "cell_type": "code",
   "execution_count": 2,
   "metadata": {},
   "outputs": [
    {
     "name": "stdout",
     "output_type": "stream",
     "text": [
      "ADDITION OF ABOVE MATRICES ARE\n",
      " [[24.  10.  16. ]\n",
      " [10.  18.  14.2]\n",
      " [ 5.  12.  17. ]]\n"
     ]
    }
   ],
   "source": [
    "import numpy as np\n",
    "\n",
    "\n",
    "matrix1 = np.array([[12,5,8], [5,9,7], [2,3,9]])\n",
    "matrix2 = np.array([[12,5,8], [5,9,7.2], [3,9,8]])\n",
    "if matrix1.size == matrix2.size:\n",
    "    try:\n",
    "        result = matrix1 + matrix2\n",
    "        print(\"ADDITION OF ABOVE MATRICES ARE\\n\", result)\n",
    "    except Exception as e:\n",
    "        print(\"SOME ERROR OCCURED : \",e)\n",
    "else:\n",
    "    print(\"SORRY ! MATRICES SHOULD BE IN SAME SIZE FOR ADDITION\")"
   ]
  },
  {
   "cell_type": "markdown",
   "metadata": {},
   "source": [
    "## 2 Write a Python Program to Multiply Two Matrices?\n"
   ]
  },
  {
   "cell_type": "code",
   "execution_count": 10,
   "metadata": {},
   "outputs": [
    {
     "name": "stdout",
     "output_type": "stream",
     "text": [
      "[[193 177 195]\n",
      " [126 169 159]\n",
      " [ 66 118 109]]\n"
     ]
    }
   ],
   "source": [
    "import numpy as np\n",
    "\n",
    "def multiply_matrices(matrix_a, matrix_b):\n",
    "\n",
    "  # check if the dimensions are okay\n",
    "  if matrix_a.shape[1] != matrix_b.shape[0]:\n",
    "    raise ValueError(\"The number of columns in the first matrix must be equal to the number of rows in the second matrix\")\n",
    "\n",
    "  # calculate the product matrix\n",
    "  ProductMtarix = np.dot(matrix_a, matrix_b)\n",
    "\n",
    "  return ProductMtarix\n",
    "\n",
    "\n",
    "matrix1 = np.array([[12,5,8], [5,9,7], [2,3,9]])\n",
    "matrix2 = np.array([[12,5,8], [5,9,7], [3,9,8]])\n",
    "\n",
    "ProductMatrix = multiply_matrices(matrix1, matrix2)\n",
    "\n",
    "print(ProductMatrix)\n",
    "\n"
   ]
  },
  {
   "cell_type": "markdown",
   "metadata": {},
   "source": [
    "## 3 Write a Python Program to Transpose a Matrix?\n"
   ]
  },
  {
   "cell_type": "code",
   "execution_count": 12,
   "metadata": {},
   "outputs": [
    {
     "name": "stdout",
     "output_type": "stream",
     "text": [
      "[[12  5  2]\n",
      " [ 5  9  3]\n",
      " [ 8  7  9]]\n"
     ]
    }
   ],
   "source": [
    "import numpy as np\n",
    "\n",
    "matrix1 = np.array([[12,5,8], [5,9,7], [2,3,9]])\n",
    "\n",
    "# matrix.T gives the transporse of the matrix\n",
    "matrix1_transpose = matrix1.T\n",
    "\n",
    "print(matrix1_transpose)\n"
   ]
  },
  {
   "cell_type": "markdown",
   "metadata": {},
   "source": [
    "## 4 Write a Python Program to Sort Words in Alphabetic Order?\n"
   ]
  },
  {
   "cell_type": "code",
   "execution_count": 19,
   "metadata": {},
   "outputs": [
    {
     "name": "stdout",
     "output_type": "stream",
     "text": [
      "Actual sentence :  India is such a beautiful country\n",
      "Sorted sentence :  a beautiful country india is such\n"
     ]
    }
   ],
   "source": [
    "def SortWords(sentence):\n",
    "    #splitting the words\n",
    "    words = sentence.split()\n",
    "\n",
    "    # lower casing all the words to make it case insensitive\n",
    "    words = [word.lower() for word in words]\n",
    "\n",
    "    #sort() function sorts the list of words\n",
    "    words.sort()\n",
    "\n",
    "    return ' '.join(words)\n",
    "\n",
    "sentence = \"India is such a beautiful country\"\n",
    "sorted_sentence = SortWords(sentence)\n",
    "print(\"Actual sentence : \", sentence)\n",
    "print(\"Sorted sentence : \", sorted_sentence)\n"
   ]
  },
  {
   "cell_type": "markdown",
   "metadata": {},
   "source": [
    "## 5 Write a Python Program to Remove Punctuation From a String?"
   ]
  },
  {
   "cell_type": "code",
   "execution_count": 29,
   "metadata": {},
   "outputs": [
    {
     "name": "stdout",
     "output_type": "stream",
     "text": [
      "Actual text                  :  this string, 'contains' so many!! punctuations.\n",
      "After removal of punctuation :  this string contains so many punctuations\n"
     ]
    }
   ],
   "source": [
    "import string\n",
    "# this modeule allows us to do many string operations\n",
    "\n",
    "def RemovePunctuation(input_string):\n",
    "\n",
    "    translator = str.maketrans('', '', string.punctuation)\n",
    "    return input_string.translate(translator)\n",
    "\n",
    "\n",
    "text = \"this string, 'contains' so many!! punctuations.\"\n",
    "cleaned_text = RemovePunctuation(text)\n",
    "print(\"Actual text                  : \", text)\n",
    "\n",
    "print(\"After removal of punctuation : \", cleaned_text)\n"
   ]
  }
 ],
 "metadata": {
  "kernelspec": {
   "display_name": "Python 3",
   "language": "python",
   "name": "python3"
  },
  "language_info": {
   "codemirror_mode": {
    "name": "ipython",
    "version": 3
   },
   "file_extension": ".py",
   "mimetype": "text/x-python",
   "name": "python",
   "nbconvert_exporter": "python",
   "pygments_lexer": "ipython3",
   "version": "3.9.10"
  },
  "orig_nbformat": 4
 },
 "nbformat": 4,
 "nbformat_minor": 2
}
