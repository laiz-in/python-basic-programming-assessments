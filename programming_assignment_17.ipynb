{
 "cells": [
  {
   "cell_type": "markdown",
   "metadata": {},
   "source": [
    "## Question1. \n",
    "Create a function that takes three arguments a, b, c and returns the sum of the numbers that are evenly divided by c from the range a, b inclusive.\n",
    "\n",
    "Examples\n",
    "\n",
    "evenly_divisible(1, 10, 20) ➞ 0\n",
    "\n",
    "No number between 1 and 10 can be evenly divided by 20.\n",
    "\n",
    "evenly_divisible(1, 10, 2) ➞ 30\n",
    "\n",
    "2 + 4 + 6 + 8 + 10 = 30\n",
    "\n",
    "evenly_divisible(1, 10, 3) ➞ 18\n",
    "\n",
    "3 + 6 + 9 = 18"
   ]
  },
  {
   "cell_type": "code",
   "execution_count": 5,
   "metadata": {},
   "outputs": [
    {
     "name": "stdout",
     "output_type": "stream",
     "text": [
      "Sum of number that are evenly divisible by 2 between the range 1 and 10  :   30\n"
     ]
    }
   ],
   "source": [
    "# define a fucntion to take 3 args and return the sum of numbers that are evenly divisible by the 3rd arg withinn the range of first two args\n",
    "def CheckDivisible(a,b,c):\n",
    "    #initialize a variable sum to store the sum\n",
    "    sum=0\n",
    "    # loop through the range of numbers to find the modulus and add to sum if the number is evenly divisible\n",
    "    for i in range(a,b+1):\n",
    "        if i%c == 0:\n",
    "            sum+=i\n",
    "    return sum\n",
    "\n",
    "a,b,c = 1,10,2\n",
    "print(f\"Sum of number that are evenly divisible by {c} between the range {a} and {b}  :   {CheckDivisible(a,b,c)}\")\n",
    "\n",
    "\n"
   ]
  },
  {
   "cell_type": "markdown",
   "metadata": {},
   "source": [
    "\n",
    "## Question2. \n",
    "Create a function that returns True if a given inequality expression is correct and False otherwise.\n",
    "\n",
    "Examples\n",
    "correct_signs(\"3 < 7 < 11\") ➞ True\n",
    "\n",
    "correct_signs(\"13 > 44 > 33 > 1\") ➞ False\n",
    "\n",
    "correct_signs(\"1 < 2 < 6 < 9 > 3\") ➞ True"
   ]
  },
  {
   "cell_type": "code",
   "execution_count": 10,
   "metadata": {},
   "outputs": [
    {
     "data": {
      "text/plain": [
       "False"
      ]
     },
     "execution_count": 10,
     "metadata": {},
     "output_type": "execute_result"
    }
   ],
   "source": [
    "# define a fucntion that takes the expression as arg adn return the boolean value\n",
    "def CorrectSigns(Expression):\n",
    "    try:\n",
    "        # eval() function takes the expression as string inpit and gives the boolean value as the answer\n",
    "        result = eval(Expression)\n",
    "        return True if result else False\n",
    "    except Exception as e:\n",
    "        print(f\"Error evaluating expression : {e}\")\n",
    "        return False\n",
    "\n",
    "# call the function with the expression as argument\n",
    "CorrectSigns(\"13 < 44 < 33\")"
   ]
  },
  {
   "cell_type": "markdown",
   "metadata": {},
   "source": [
    "## Question3.\n",
    " Create a function that replaces all the vowels in a string with a specified character.\n",
    "\n",
    "Examples\n",
    "replace_vowels(\"the aardvark\", \"#\") ➞ \"th# ##rdv#rk\"\n",
    "\n",
    "replace_vowels(\"minnie mouse\", \"?\") ➞ \"m?nn?? m??s?\"\n",
    "\n",
    "replace_vowels(\"shakespeare\", \"*\") ➞ \"sh*k*sp**r*\""
   ]
  },
  {
   "cell_type": "code",
   "execution_count": 14,
   "metadata": {},
   "outputs": [
    {
     "data": {
      "text/plain": [
       "'m?nn?? m??s?'"
      ]
     },
     "execution_count": 14,
     "metadata": {},
     "output_type": "execute_result"
    }
   ],
   "source": [
    "# define a fucntion that takes a string and special character as args and replaces the vowels in string with the special character\n",
    "def ReplaceVowels(InputString, CharacterToBeReplaced):\n",
    "    # give the vowels as string for checking purposes\n",
    "    vowels = \"aeiouAEIOU\"\n",
    "\n",
    "    # iterate through all the characters in the and replcae if the string contains any of them\n",
    "    for vowel in vowels:\n",
    "        InputString =InputString.replace(vowel,CharacterToBeReplaced)\n",
    "\n",
    "    return InputString\n",
    "\n",
    "InputString = \"minnie mouse\"\n",
    "SpecialCharacter = \"?\"\n",
    "\n",
    "ReplaceVowels(InputString,SpecialCharacter)"
   ]
  },
  {
   "cell_type": "markdown",
   "metadata": {},
   "source": [
    "## Question4.\n",
    " Write a function that calculates the factorial of a number recursively.\n",
    "\n",
    "Examples\n",
    "factorial(5) ➞ 120\n",
    "\n",
    "factorial(3) ➞ 6\n",
    "\n",
    "factorial(1) ➞ 1\n",
    "\n",
    "factorial(0) ➞ 1"
   ]
  },
  {
   "cell_type": "code",
   "execution_count": 18,
   "metadata": {},
   "outputs": [
    {
     "name": "stdout",
     "output_type": "stream",
     "text": [
      " Factorial of 5 using recursive function is : 120\n"
     ]
    }
   ],
   "source": [
    "# define a function to find the factorial\n",
    "def factorial(n):\n",
    "  # return 1 if the number is 0\n",
    "  if n == 0:\n",
    "    return 1\n",
    "  else:\n",
    "    # call same function inside the fucntion to make this a recursive function\n",
    "    return n * factorial(n - 1)\n",
    "\n",
    "# give the input value as n\n",
    "n=5\n",
    "print(f\" Factorial of {n} using recursive function is : {factorial(5)}\")\n"
   ]
  },
  {
   "cell_type": "markdown",
   "metadata": {},
   "source": [
    "## Question 5\n",
    "\n",
    "Hamming distance is the number of characters that differ between two strings.\n",
    "\n",
    "To illustrate:\n",
    "\n",
    "String1: \"abcbba\"\n",
    "\n",
    "String2: \"abcbda\"\n",
    "\n",
    "Hamming Distance: 1 - \"b\" vs. \"d\" is the only difference.\n",
    "\n",
    "Create a function that computes the hamming distance between two strings.\n",
    "\n",
    "Examples\n",
    "hamming_distance(\"abcde\", \"bcdef\") ➞ 5\n",
    "\n",
    "hamming_distance(\"abcde\", \"abcde\") ➞ 0\n",
    "\n",
    "hamming_distance(\"strong\", \"strung\") ➞ 1"
   ]
  },
  {
   "cell_type": "code",
   "execution_count": 22,
   "metadata": {},
   "outputs": [
    {
     "name": "stdout",
     "output_type": "stream",
     "text": [
      "Hamming distance between 'abcdefg' and 'abcdefh' is 1, That means only 1 letters are different\n"
     ]
    }
   ],
   "source": [
    "# define fucntion to take two strings as args and computes the hamming distance\n",
    "def HammingDistance(str1, str2):\n",
    "\n",
    "  # check if the strings are of equal length. if not , raise value error\n",
    "  if len(str1) != len(str2):\n",
    "    raise ValueError(\"Strings must be the same length.\")\n",
    "  # initialize a variable store the sum of hamming distance\n",
    "  distance = 0\n",
    "\n",
    "  for i in range(len(str1)):\n",
    "    # if the two characters are not same , then add the distance by 1\n",
    "    if str1[i] != str2[i]:\n",
    "      distance += 1\n",
    "  \n",
    "  return distance\n",
    "\n",
    "\n",
    "str1 = \"abcdefg\"\n",
    "str2 = \"abcdefh\"\n",
    "\n",
    "distance = HammingDistance(str1, str2)\n",
    "\n",
    "print(f\"Hamming distance between '{str1}' and '{str2}' is {distance}, That means only {distance} letters are different\")\n"
   ]
  }
 ],
 "metadata": {
  "kernelspec": {
   "display_name": "Python 3",
   "language": "python",
   "name": "python3"
  },
  "language_info": {
   "codemirror_mode": {
    "name": "ipython",
    "version": 3
   },
   "file_extension": ".py",
   "mimetype": "text/x-python",
   "name": "python",
   "nbconvert_exporter": "python",
   "pygments_lexer": "ipython3",
   "version": "3.9.10"
  },
  "orig_nbformat": 4
 },
 "nbformat": 4,
 "nbformat_minor": 2
}
