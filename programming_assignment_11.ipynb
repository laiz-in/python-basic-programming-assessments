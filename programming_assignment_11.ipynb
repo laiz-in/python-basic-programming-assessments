{
 "cells": [
  {
   "cell_type": "markdown",
   "metadata": {},
   "source": [
    "## 1 Write a Python program to find words which are greater than given length k?\n"
   ]
  },
  {
   "cell_type": "code",
   "execution_count": 7,
   "metadata": {},
   "outputs": [
    {
     "name": "stdout",
     "output_type": "stream",
     "text": [
      "oops no items found\n"
     ]
    }
   ],
   "source": [
    "sentence = \"I have a dog named bruno which is a siberian huskey\"\n",
    "\n",
    "# spliot the senetnce to seperate the words\n",
    "words = sentence.split(\" \")\n",
    "\n",
    "# give the length we want , which is k\n",
    "k= 9\n",
    "\n",
    "List=[]\n",
    "for word in words:\n",
    "    if len(word)>k:\n",
    "        List.append(word)\n",
    "\n",
    "if List:\n",
    "    print(f\" words which are longer than {k} characters are : \",List)\n",
    "else:\n",
    "    print(\"oops no items found\")"
   ]
  },
  {
   "cell_type": "markdown",
   "metadata": {},
   "source": [
    "## 2 Write a Python program for removing i-th character from a string?\n"
   ]
  },
  {
   "cell_type": "code",
   "execution_count": 16,
   "metadata": {},
   "outputs": [
    {
     "name": "stdout",
     "output_type": "stream",
     "text": [
      " 'banglore is a great city' after removing the character at the index 3 :  banlore is a great city\n"
     ]
    }
   ],
   "source": [
    "string = \"banglore is a great city\"\n",
    "\n",
    "#whitespace will be considered\n",
    "i = 3\n",
    "\n",
    "# take out the characters before the index and after the index , and then concatenate two parts\n",
    "string1 = string[:i] + string[i+1:]\n",
    "print(f\" '{string}' after removing the character at the index {i} : \",string1)"
   ]
  },
  {
   "cell_type": "markdown",
   "metadata": {},
   "source": [
    "## 3 Write a Python program to split and join a string?\n"
   ]
  },
  {
   "cell_type": "code",
   "execution_count": 17,
   "metadata": {},
   "outputs": [
    {
     "name": "stdout",
     "output_type": "stream",
     "text": [
      " string after splitting :  ['india', 'is', 'the', 'greatest', 'country', 'in', 'the', 'world']\n",
      " the string after re joining :  india is the greatest country in the world\n"
     ]
    }
   ],
   "source": [
    "string = \"india is the greatest country in the world\"\n",
    "\n",
    "# split the string by the whitespaces\n",
    "SplitString = string.split(\" \") \n",
    "print(\" string after splitting : \",SplitString)\n",
    "\n",
    "# join the string back\n",
    "JoinString = \" \".join(SplitString)\n",
    "print(\" the string after re joining : \",JoinString)"
   ]
  },
  {
   "cell_type": "markdown",
   "metadata": {},
   "source": [
    "## 4 Write a Python to check if a given string is binary string or not?\n"
   ]
  },
  {
   "cell_type": "code",
   "execution_count": 26,
   "metadata": {},
   "outputs": [
    {
     "name": "stdout",
     "output_type": "stream",
     "text": [
      "0010101 is a binary string\n"
     ]
    }
   ],
   "source": [
    "string = \"0010101\"\n",
    "\n",
    "# check if all the characters in the string are 0s and 1s\n",
    "if all(char in \"01\" for char in string):\n",
    "    print(f\"{string} is a binary string\")\n",
    "else:\n",
    "    print(f\"{string} is not a binary string\")\n",
    "\n"
   ]
  },
  {
   "cell_type": "markdown",
   "metadata": {},
   "source": [
    "## 5 Write a Python program to find uncommon words from two Strings?\n"
   ]
  },
  {
   "cell_type": "code",
   "execution_count": 31,
   "metadata": {},
   "outputs": [
    {
     "name": "stdout",
     "output_type": "stream",
     "text": [
      " the uncommon words in two strings are :  {'greatest', 'not', 'largest'}\n"
     ]
    }
   ],
   "source": [
    "string1 = \"india is the greatest country in the world\"\n",
    "string2 = \"india is not the largest country in the world\"\n",
    "\n",
    "Words1 = set(string1.split(\" \"))\n",
    "Words2 = set(string2.split(\" \"))\n",
    "\n",
    "UncommonWords = Words1.symmetric_difference(Words2)\n",
    "# symmetric_difference() gives the uncommon items between two lists\n",
    "\n",
    "print(\" the uncommon words in two strings are : \",UncommonWords)\n",
    "\n"
   ]
  },
  {
   "cell_type": "markdown",
   "metadata": {},
   "source": [
    "## 6 Write a Python to find all duplicate characters in string?\n"
   ]
  },
  {
   "cell_type": "code",
   "execution_count": 38,
   "metadata": {},
   "outputs": [
    {
     "name": "stdout",
     "output_type": "stream",
     "text": [
      " all duplicate characters in the string are  ['e', 'l', 'o']\n"
     ]
    }
   ],
   "source": [
    "string = \"hElleoo world\" \n",
    "string= string.lower()\n",
    "# lower casing to make this case insensitive\n",
    "\n",
    "\n",
    "char_count = {}\n",
    "duplicates = []\n",
    "\n",
    "for char in string:\n",
    "    if char in char_count:\n",
    "        char_count[char] += 1\n",
    "        # storing the count of each character\n",
    "    else:\n",
    "        char_count[char] = 1\n",
    "for char, count in char_count.items():\n",
    "    if count > 1:\n",
    "        # if it appears more than once , then appending to duplicates\n",
    "        duplicates.append(char)\n",
    "\n",
    "print(\" all duplicate characters in the string are \",duplicates)"
   ]
  },
  {
   "cell_type": "markdown",
   "metadata": {},
   "source": [
    "## 7 Write a Python Program to check if a string contains any special character?"
   ]
  },
  {
   "cell_type": "code",
   "execution_count": 49,
   "metadata": {},
   "outputs": [
    {
     "name": "stdout",
     "output_type": "stream",
     "text": [
      " Yes! ' hey hello word$'contains special characters\n"
     ]
    }
   ],
   "source": [
    "# we can use the string module to get it done easily\n",
    "\n",
    "import string\n",
    "string1 = \" hey hello word$\"\n",
    "\n",
    "# store the punctuations to a list . string.punctuation() gives you all punctuations\n",
    "special_chars = set(string.punctuation)\n",
    "\n",
    "\n",
    "for char in string1:\n",
    "    result =f\" Yes! '{string1}'contains special characters\" if char in special_chars else f\" No , '{string1}' not containing any special characters\"\n",
    "    \n",
    "print(result)"
   ]
  }
 ],
 "metadata": {
  "kernelspec": {
   "display_name": "Python 3",
   "language": "python",
   "name": "python3"
  },
  "language_info": {
   "codemirror_mode": {
    "name": "ipython",
    "version": 3
   },
   "file_extension": ".py",
   "mimetype": "text/x-python",
   "name": "python",
   "nbconvert_exporter": "python",
   "pygments_lexer": "ipython3",
   "version": "3.9.10"
  },
  "orig_nbformat": 4
 },
 "nbformat": 4,
 "nbformat_minor": 2
}
