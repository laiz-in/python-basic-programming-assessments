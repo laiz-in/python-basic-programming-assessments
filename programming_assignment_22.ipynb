{
 "cells": [
  {
   "cell_type": "markdown",
   "metadata": {},
   "source": [
    "## Question1\n",
    "\n",
    "Create a function that takes three parameters where:\n",
    "\n",
    "x is the start of the range (inclusive).\n",
    "y is the end of the range (inclusive).\n",
    "n is the divisor to be checked against.\n",
    "Return an ordered list with numbers in the range that are divisible by the third parameter n. Return an empty list if there are no numbers that are divisible by n.\n",
    "\n",
    "Examples\n",
    "\n",
    "list_operation(1, 10, 3) ➞ [3, 6, 9]\n",
    "\n",
    "list_operation(7, 9, 2) ➞ [8]\n",
    "\n",
    "list_operation(15, 20, 7) ➞ []"
   ]
  },
  {
   "cell_type": "code",
   "execution_count": 2,
   "metadata": {},
   "outputs": [
    {
     "name": "stdout",
     "output_type": "stream",
     "text": [
      " the numbers between 1 and  10 that are divisibe by 3 are : [3, 6, 9]\n"
     ]
    }
   ],
   "source": [
    "# define a fucntion to take three parameters\n",
    "def ListOperation(x, y, n):\n",
    "    # iterate through the range x to y and check all numbers if they are divisible by n or not \n",
    "    return [i for i in range(x, y + 1) if i % n == 0]\n",
    "\n",
    "# give the value of x, y,n\n",
    "x = 1\n",
    "y = 10\n",
    "n = 3\n",
    "print(f\" the numbers between {x} and  {y} that are divisibe by {n} are : {ListOperation(x,y,n)}\") \n",
    "\n"
   ]
  },
  {
   "cell_type": "markdown",
   "metadata": {},
   "source": [
    "## Question2\n",
    "\n",
    "Create a function that takes in two lists and returns True if the second list follows the first list by one element, and False otherwise. In other words, determine if the second list is the first list shifted to the right by 1.\n",
    "\n",
    "Examples\n",
    "\n",
    "simon_says([1, 2], [5, 1]) ➞ True\n",
    "\n",
    "simon_says([1, 2], [5, 5]) ➞ False\n",
    "\n",
    "simon_says([1, 2, 3, 4, 5], [0, 1, 2, 3, 4]) ➞ True\n",
    "\n",
    "simon_says([1, 2, 3, 4, 5], [5, 5, 1, 2, 3]) ➞ False\n",
    "\n",
    "Notes\n",
    "\n",
    "Both input lists will be of the same length, and will have a minimum length of 2.\n",
    "The values of the 0-indexed element in the second list and the n-1th indexed element in the first list do not matter."
   ]
  },
  {
   "cell_type": "code",
   "execution_count": 7,
   "metadata": {},
   "outputs": [
    {
     "name": "stdout",
     "output_type": "stream",
     "text": [
      "False\n"
     ]
    }
   ],
   "source": [
    "# define a fucntion to take two lists as input\n",
    "def SimonSays(list1, list2):\n",
    "    # check if the lists are in the same length\n",
    "    if len(list1) == len(list2):\n",
    "        # return the boolean value after checking our condition\n",
    "        return list1[:-1] == list2[1:]\n",
    "    else:\n",
    "        return \"Lists should be of same length\"\n",
    "\n",
    "# give two input lists\n",
    "list1 = [1,2]\n",
    "list2 = [5,5]\n",
    "print(SimonSays(list1, list2))     \n",
    "     \n",
    "\n"
   ]
  },
  {
   "cell_type": "markdown",
   "metadata": {},
   "source": [
    "## Question3\n",
    "\n",
    "A group of friends have decided to start a secret society. The name will be the first letter of each of their names, sorted in alphabetical order.\n",
    "\n",
    "Create a function that takes in a list of names and returns the name of the secret society.\n",
    "\n",
    "Examples\n",
    "society_name([\"Adam\", \"Sarah\", \"Malcolm\"]) ➞ \"AMS\"\n",
    "\n",
    "society_name([\"Harry\", \"Newt\", \"Luna\", \"Cho\"]) ➞ \"CHLN\"\n",
    "\n",
    "society_name([\"Phoebe\", \"Chandler\", \"Rachel\", \"Ross\", \"Monica\", \"Joey\"])"
   ]
  },
  {
   "cell_type": "code",
   "execution_count": 11,
   "metadata": {},
   "outputs": [
    {
     "name": "stdout",
     "output_type": "stream",
     "text": [
      "The name of the company after selecting the first letters and sorting them is :  AMS\n"
     ]
    }
   ],
   "source": [
    "ListOfNames = [\"Adam\",\"Sarah\", \"Malcolm\"]\n",
    "\n",
    "# define a fucntion to take the list of names as input\n",
    "def SecretSociety(ListOfNames):\n",
    "    \n",
    "    # iterate through list , take first letter , join them to create a new string and return it after sorting\n",
    "    return ''.join(sorted(name[0] for name in ListOfNames))\n",
    "\n",
    "\n",
    "\n",
    "print(\"The name of the company after selecting the first letters and sorting them is : \",SecretSociety(ListOfNames))"
   ]
  },
  {
   "cell_type": "markdown",
   "metadata": {},
   "source": [
    "## Question4\n",
    "\n",
    "An isogram is a word that has no duplicate letters. Create a function that takes a string and returns either True or False depending on whether or not it's an \"isogram\".\n",
    "\n",
    "Examples\n",
    "\n",
    "is_isogram(\"Algorism\") ➞ True\n",
    "\n",
    "is_isogram(\"PasSword\") ➞ False\n",
    "\n",
    "# Not case sensitive.\n",
    "\n",
    "is_isogram(\"Consecutive\") ➞ False\n",
    "\n",
    "Notes\n",
    "\n",
    "Ignore letter case (should not be case sensitive).\n",
    "All test cases contain valid one word strings."
   ]
  },
  {
   "cell_type": "code",
   "execution_count": 14,
   "metadata": {},
   "outputs": [
    {
     "name": "stdout",
     "output_type": "stream",
     "text": [
      "the word Algorism is isogram?? True\n"
     ]
    }
   ],
   "source": [
    "# define a fucntion that takes the word as argument\n",
    "def IsIsogram(string):\n",
    "    # lower case the word to make it case insensitive\n",
    "    string = string.lower()\n",
    "    return len(string) == len(set(string))\n",
    "\n",
    "\n",
    "\n",
    "InputString = \"Algorism\"\n",
    "print(f\"the word {InputString} is isogram?? {IsIsogram(InputString)}\")   \n",
    "\n"
   ]
  },
  {
   "cell_type": "markdown",
   "metadata": {},
   "source": [
    "## Question5\n",
    "\n",
    "Create a function that takes a string and returns True or False, depending on whether the characters are in order or not.\n",
    "\n",
    "Examples\n",
    "is_in_order(\"abc\") ➞ True\n",
    "\n",
    "is_in_order(\"edabit\") ➞ False\n",
    "\n",
    "is_in_order(\"123\") ➞ True\n",
    "\n",
    "is_in_order(\"xyzz\") ➞ True\n",
    "\n",
    "Notes\n",
    "You don't have to handle empty strings."
   ]
  },
  {
   "cell_type": "code",
   "execution_count": 15,
   "metadata": {},
   "outputs": [
    {
     "name": "stdout",
     "output_type": "stream",
     "text": [
      "True\n"
     ]
    }
   ],
   "source": [
    "# define a fucntion to  take a string and returns true if its characters are in order , False if they are not in order\n",
    "def IsInOrder(mystring):\n",
    "    \n",
    "    return mystring == ''.join(sorted(mystring))\n",
    "\n",
    "\n",
    "\n",
    "print(IsInOrder(\"abc\"))    \n",
    "\n",
    "\n"
   ]
  }
 ],
 "metadata": {
  "kernelspec": {
   "display_name": "Python 3",
   "language": "python",
   "name": "python3"
  },
  "language_info": {
   "codemirror_mode": {
    "name": "ipython",
    "version": 3
   },
   "file_extension": ".py",
   "mimetype": "text/x-python",
   "name": "python",
   "nbconvert_exporter": "python",
   "pygments_lexer": "ipython3",
   "version": "3.9.10"
  },
  "orig_nbformat": 4
 },
 "nbformat": 4,
 "nbformat_minor": 2
}
