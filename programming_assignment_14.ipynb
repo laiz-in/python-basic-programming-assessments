{
 "cells": [
  {
   "cell_type": "markdown",
   "metadata": {},
   "source": [
    "## Question 1:\n",
    "\n",
    "Define a class with a generator which can iterate the numbers, which are divisible by 7, between a given range 0 and n "
   ]
  },
  {
   "cell_type": "code",
   "execution_count": 16,
   "metadata": {},
   "outputs": [
    {
     "name": "stdout",
     "output_type": "stream",
     "text": [
      "0\n",
      "7\n",
      "14\n",
      "21\n",
      "28\n",
      "35\n",
      "42\n",
      "49\n",
      "56\n"
     ]
    }
   ],
   "source": [
    "#define a class\n",
    "class divisor:\n",
    "    # define a constructor fro the same\n",
    "    def __init__(self,n):\n",
    "        self.n=n\n",
    "    # define a class for the iterator , one one arg that is n\n",
    "    def DivisibleBySeven(self):\n",
    "        # giving n+1 because we need to include the n in the loop \n",
    "        for number in range(0,self.n+1):\n",
    "            if number % 7 == 0:\n",
    "                yield number\n",
    "\n",
    "n= 56\n",
    "\n",
    "#create an iterator by giving n value as parameter\n",
    "iterator = divisor(n).DivisibleBySeven()\n",
    "for num in iterator:\n",
    "    print(num)\n"
   ]
  },
  {
   "cell_type": "markdown",
   "metadata": {},
   "source": [
    "## Question 2:\n",
    "\n",
    "Write a program to compute the frequency of the words from the input. The output should output after sorting the key alphanumerically.\n",
    "\n",
    "Suppose the following input is supplied to the program:\n",
    "\n",
    "New to Python or choosing between Python 2 and Python 3? Read Python 2 or Python 3.\n",
    "\n",
    "Then, the output should be:\n",
    "\n",
    "2:2\n",
    "\n",
    "3.:1\n",
    "\n",
    "3?:1\n",
    "\n",
    "New:1\n",
    "\n",
    "Python:5\n",
    "\n",
    "Read:1\n",
    "\n",
    "and:1\n",
    "\n",
    "between:1\n",
    "\n",
    "choosing:1\n",
    "\n",
    "or:2\n",
    "\n",
    "to:1"
   ]
  },
  {
   "cell_type": "code",
   "execution_count": 40,
   "metadata": {},
   "outputs": [
    {
     "name": "stdout",
     "output_type": "stream",
     "text": [
      "2 : 2\n",
      "3 : 1\n",
      "3? : 1\n",
      "New : 1\n",
      "Python : 5\n",
      "Read : 1\n",
      "and : 1\n",
      "between : 1\n",
      "choosing : 1\n",
      "or : 2\n",
      "to : 1\n"
     ]
    }
   ],
   "source": [
    "input = \"New to Python or choosing between Python 2 and Python 3? Read Python 2 or Python 3\"\n",
    "\n",
    "# split the input to grab all the words\n",
    "words = input.split(\" \")\n",
    "\n",
    "# sort the words in the list alphanumerically\n",
    "words.sort()\n",
    "\n",
    "# craete an empty dictionary\n",
    "dict = {}\n",
    "\n",
    "# iterate through the list\n",
    "for word in words:\n",
    "    # if the word is already in dictionary add its value by one\n",
    "    if word in dict:\n",
    "        dict[word]+=1\n",
    "    # if the word is not in the dicionary , then add it wth the value as 1\n",
    "    else:\n",
    "        dict[word]=1\n",
    "    \n",
    "\n",
    "# iterate through the dictionary to print all the words and their occurance\n",
    "for key in dict.keys():\n",
    "    print(f\"{key} : {dict[key]}\")"
   ]
  },
  {
   "cell_type": "markdown",
   "metadata": {},
   "source": [
    "\n",
    "## Question 3:\n",
    "\n",
    "Define a class Person and its two child classes: Male and Female. All classes have a method \"getGender\" which can print \"Male\" for Male class and \"Female\" for Female class."
   ]
  },
  {
   "cell_type": "code",
   "execution_count": 49,
   "metadata": {},
   "outputs": [
    {
     "name": "stdout",
     "output_type": "stream",
     "text": [
      "from male class\n",
      "from female class\n"
     ]
    }
   ],
   "source": [
    "class person:\n",
    "    def __init__(self) -> None:\n",
    "        pass\n",
    "    class male:\n",
    "        def GetGender(self):\n",
    "            return \"from male class\"\n",
    "    class female:\n",
    "        def Getgender(self):\n",
    "            return \"from female class\"\n",
    "\n",
    "# create seperate instances for both sub child classes\n",
    "M= person.male()\n",
    "F= person.female() \n",
    "\n",
    "# calling both the child classes and the GetGender() methods in it\n",
    "print(M.GetGender())\n",
    "print(F.Getgender())\n"
   ]
  },
  {
   "cell_type": "markdown",
   "metadata": {},
   "source": [
    "## Question 4:\n",
    "\n",
    "Please write a program to generate all sentences where subject is in [\"I\", \"You\"] and verb is in [\"Play\", \"Love\"] and the object is in [\"Hockey\",\"Football\"]"
   ]
  },
  {
   "cell_type": "code",
   "execution_count": 51,
   "metadata": {},
   "outputs": [
    {
     "name": "stdout",
     "output_type": "stream",
     "text": [
      "I play hockey\n",
      "I play football\n",
      "I love hockey\n",
      "I love football\n",
      "You play hockey\n",
      "You play football\n",
      "You love hockey\n",
      "You love football\n"
     ]
    }
   ],
   "source": [
    "# create 3 lists to store subjects , verbs and objects\n",
    "subjects = [\"I\", \"You\"]\n",
    "verbs = [\"play\",\"love\"]\n",
    "objects = [\"hockey\",\"football\"]\n",
    "\n",
    "# iterate through all the lists to prin out all the combination of sentences\n",
    "for subject in subjects:\n",
    "    for verb in verbs:\n",
    "        for object in objects:\n",
    "            print(f\"{subject} {verb} {object}\")\n"
   ]
  },
  {
   "cell_type": "markdown",
   "metadata": {},
   "source": [
    "## Question 5:\n",
    "\n",
    "Please write a program to compress and decompress the string \"hello world!hello world!hello world!hello world!\""
   ]
  },
  {
   "cell_type": "code",
   "execution_count": 53,
   "metadata": {},
   "outputs": [
    {
     "name": "stdout",
     "output_type": "stream",
     "text": [
      "Original String :  hello world!hello world!hello world!hello world!\n",
      "Compressed Data: b'x\\x9c\\xcbH\\xcd\\xc9\\xc9W(\\xcf/\\xcaIQ\\xcc \\x82\\r\\x00\\xbd[\\x11\\xf5'\n",
      "Decompressed String: hello world!hello world!hello world!hello world!\n"
     ]
    }
   ],
   "source": [
    "import zlib\n",
    "# use zlib library to compress data\n",
    "\n",
    "string = \"hello world!hello world!hello world!hello world!\"\n",
    "\n",
    "try:\n",
    "    # compress the string using zlib.compress()\n",
    "    compressed_string = zlib.compress(string.encode(\"utf-8\"))\n",
    "except Exception as e:\n",
    "    print(\" could not compress , error is : \",e)\n",
    "\n",
    "\n",
    "# decompress the string using zlib.decompress()\n",
    "decompressed_string = zlib.decompress(compressed_string).decode(\"utf-8\")\n",
    "\n",
    "print(\"Original String : \", string)\n",
    "print(\"Compressed Data:\", compressed_string)\n",
    "print(\"Decompressed String:\", decompressed_string)"
   ]
  },
  {
   "cell_type": "markdown",
   "metadata": {},
   "source": [
    "## Question 6:\n",
    "\n",
    "Please write a binary search function which searches an item in a sorted list. The function should return the index of element to be searched in the list"
   ]
  },
  {
   "cell_type": "code",
   "execution_count": 57,
   "metadata": {},
   "outputs": [
    {
     "name": "stdout",
     "output_type": "stream",
     "text": [
      "The item 5 is at index 8 in the list\n"
     ]
    }
   ],
   "source": [
    "def BinarySearch(list, item):\n",
    "  low = 0\n",
    "  high = len(list) - 1\n",
    "\n",
    "  while low <= high:\n",
    "    mid = (low + high) // 2\n",
    "\n",
    "    if list[mid] == item:\n",
    "      return mid\n",
    "    elif list[mid] < item:\n",
    "      low = mid + 1\n",
    "    else:\n",
    "      high = mid - 1\n",
    "\n",
    "  return -1\n",
    "\n",
    "# crteates a list \n",
    "list = [1, 3, 5, 7, 9,23,3,4,4,5455,666,4,3,4,5,6,7,7]\n",
    "\n",
    "# sort the list to make it an ordered list\n",
    "list.sort()\n",
    "\n",
    "# give the item to be searched\n",
    "item = 5\n",
    "\n",
    "# call the fucntion to get the index of our item\n",
    "index = BinarySearch(list, item)\n",
    "\n",
    "if index != -1:\n",
    "  print(f\"The item {item} is at index {index} in the list\")\n",
    "else:\n",
    "  print(f\"The item {item} is not in the list\")\n",
    "\n",
    "# nb . function will return first index if the items is appearing more than once in the list"
   ]
  }
 ],
 "metadata": {
  "kernelspec": {
   "display_name": "Python 3",
   "language": "python",
   "name": "python3"
  },
  "language_info": {
   "codemirror_mode": {
    "name": "ipython",
    "version": 3
   },
   "file_extension": ".py",
   "mimetype": "text/x-python",
   "name": "python",
   "nbconvert_exporter": "python",
   "pygments_lexer": "ipython3",
   "version": "3.9.10"
  },
  "orig_nbformat": 4
 },
 "nbformat": 4,
 "nbformat_minor": 2
}
