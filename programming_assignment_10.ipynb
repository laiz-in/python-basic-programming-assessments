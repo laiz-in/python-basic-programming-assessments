{
 "cells": [
  {
   "cell_type": "markdown",
   "metadata": {},
   "source": [
    "## 1 Write a Python program to find sum of elements in list?\n"
   ]
  },
  {
   "cell_type": "code",
   "execution_count": 2,
   "metadata": {},
   "outputs": [
    {
     "name": "stdout",
     "output_type": "stream",
     "text": [
      "sum of all the elements in the list is :  70\n"
     ]
    }
   ],
   "source": [
    "List = [3,5,7,8,9,3,5,6,7,8,9]\n",
    "\n",
    "print(\"sum of all the elements in the list is : \",sum(List))"
   ]
  },
  {
   "cell_type": "markdown",
   "metadata": {},
   "source": [
    "## 2 Write a Python program to Multiply all numbers in the list?\n"
   ]
  },
  {
   "cell_type": "code",
   "execution_count": 5,
   "metadata": {},
   "outputs": [
    {
     "name": "stdout",
     "output_type": "stream",
     "text": [
      "Product of all the elements in the list :  342921600\n"
     ]
    }
   ],
   "source": [
    "List = [3,5,7,8,9,3,5,6,7,8,9]\n",
    "product=1\n",
    "for number in List:\n",
    "    product *= number\n",
    "\n",
    "print(\"Product of all the elements in the list : \",product)"
   ]
  },
  {
   "cell_type": "markdown",
   "metadata": {},
   "source": [
    "## 3 Write a Python program to find smallest number in a list?\n"
   ]
  },
  {
   "cell_type": "code",
   "execution_count": 8,
   "metadata": {},
   "outputs": [
    {
     "name": "stdout",
     "output_type": "stream",
     "text": [
      " smallest element in the list is :  -2\n"
     ]
    }
   ],
   "source": [
    "List = [3,5,7,8,9,3,5,6,7,8,9,-2]\n",
    " \n",
    "print(\" smallest element in the list is : \", min(List))"
   ]
  },
  {
   "cell_type": "markdown",
   "metadata": {},
   "source": [
    "## 4 Write a Python program to find largest number in a list?\n"
   ]
  },
  {
   "cell_type": "code",
   "execution_count": 9,
   "metadata": {},
   "outputs": [
    {
     "name": "stdout",
     "output_type": "stream",
     "text": [
      " Largest element in the list is :  9\n"
     ]
    }
   ],
   "source": [
    "List = [3,5,7,8,9,3,5,6,7,8,9,-2]\n",
    " \n",
    "print(\" Largest element in the list is : \", max(List))"
   ]
  },
  {
   "cell_type": "markdown",
   "metadata": {},
   "source": [
    "## 5 Write a Python program to find second largest number in a list?\n"
   ]
  },
  {
   "cell_type": "code",
   "execution_count": 13,
   "metadata": {},
   "outputs": [
    {
     "name": "stdout",
     "output_type": "stream",
     "text": [
      "second largest number in the list is :  8\n"
     ]
    }
   ],
   "source": [
    "List = [3,5,7,8,9,3,5,6,7,8,9,-2]\n",
    "\n",
    "# find the largest\n",
    "largest = max(List)\n",
    "\n",
    "# remove the largest from all indexes to find the second largest\n",
    "while largest in List:\n",
    "   List.remove(largest)\n",
    "   \n",
    "print(\"second largest number in the list is : \",max(List))\n"
   ]
  },
  {
   "cell_type": "markdown",
   "metadata": {},
   "source": [
    "## 6 Write a Python program to find N largest elements from a list?\n"
   ]
  },
  {
   "cell_type": "code",
   "execution_count": 18,
   "metadata": {},
   "outputs": [
    {
     "name": "stdout",
     "output_type": "stream",
     "text": [
      " first 4 largest numbers in the list :  [9, 9, 8, 8]\n"
     ]
    }
   ],
   "source": [
    "List = [3,5,7,8,9,3,5,6,7,8,9,-2]\n",
    " \n",
    "N = 4\n",
    "# give the N value\n",
    "\n",
    "#sort the list in reverse and split upto N\n",
    "print(f\" first {N} largest numbers in the list : \",sorted(List, reverse=True)[:N])"
   ]
  },
  {
   "cell_type": "markdown",
   "metadata": {},
   "source": [
    "## 7 Write a Python program to print even numbers in a list?\n"
   ]
  },
  {
   "cell_type": "code",
   "execution_count": 30,
   "metadata": {},
   "outputs": [
    {
     "name": "stdout",
     "output_type": "stream",
     "text": [
      " even numbers in the lsit :  [8, 6, 8]\n"
     ]
    }
   ],
   "source": [
    "List = [3,5,7,8,9,3,5,6,7,8,9,-2]\n",
    "EvenNumbers = [num for num in List if num % 2 == 0 and num>0] \n",
    "print(\" even numbers in the lsit : \",EvenNumbers)"
   ]
  },
  {
   "cell_type": "markdown",
   "metadata": {},
   "source": [
    "## 8 Write a Python program to print odd numbers in a List?\n"
   ]
  },
  {
   "cell_type": "code",
   "execution_count": 31,
   "metadata": {},
   "outputs": [
    {
     "name": "stdout",
     "output_type": "stream",
     "text": [
      " odd numbers in the lsit :  [3, 5, 7, 9, 3, 5, 7, 9]\n"
     ]
    }
   ],
   "source": [
    "List = [3,5,7,8,9,3,5,6,7,8,9,-2]\n",
    "OddNumbers = [num for num in List if num % 2 != 0 and num>=0] \n",
    "print(\" odd numbers in the lsit : \",OddNumbers)"
   ]
  },
  {
   "cell_type": "markdown",
   "metadata": {},
   "source": [
    "## 9 Write a Python program to Remove empty List from List?\n"
   ]
  },
  {
   "cell_type": "code",
   "execution_count": 37,
   "metadata": {},
   "outputs": [
    {
     "name": "stdout",
     "output_type": "stream",
     "text": [
      " List after removing empty sublists :  [1, 2, 7, 6, 7, [3, 4], [5, 6]]\n"
     ]
    }
   ],
   "source": [
    "List = [1,2,7,6,7,[], [3, 4],[], [5, 6],[]]\n",
    "\n",
    "#creating a list of all items in the list excluding the empty sublists\n",
    "CleanedList =  [sublist for sublist in List if sublist]\n",
    "\n",
    "print(\" List after removing empty sublists : \",CleanedList)"
   ]
  },
  {
   "cell_type": "markdown",
   "metadata": {},
   "source": [
    "## 10 Write a Python program to Cloning or Copying a list?\n"
   ]
  },
  {
   "cell_type": "code",
   "execution_count": 39,
   "metadata": {},
   "outputs": [
    {
     "name": "stdout",
     "output_type": "stream",
     "text": [
      " Copied list :  [1, 2, 7, 6, 7, [], [3, 4], [], [5, 6], []]\n"
     ]
    }
   ],
   "source": [
    "List = [1,2,7,6,7,[], [3, 4],[], [5, 6],[]]\n",
    "\n",
    "CopiedList = List.copy()\n",
    "\n",
    "print(\" Copied list : \",CopiedList)"
   ]
  },
  {
   "cell_type": "markdown",
   "metadata": {},
   "source": [
    "## 11 Write a Python program to Count occurrences of an element in a list?"
   ]
  },
  {
   "cell_type": "code",
   "execution_count": 49,
   "metadata": {},
   "outputs": [
    {
     "name": "stdout",
     "output_type": "stream",
     "text": [
      "78 not found in the list , sorry\n"
     ]
    }
   ],
   "source": [
    "List = [3,5,7,8,9,3,5,6,7,8,9,-2]\n",
    "\n",
    "ElementToBeCounted = 78\n",
    "try:\n",
    "    count = List.count(ElementToBeCounted)\n",
    "    result = (f\"{ElementToBeCounted} appears {count} times in the list\") if count>0 else (f\"{ElementToBeCounted} not found in the list , sorry\")\n",
    "    print(result)\n",
    "except Exception as e:\n",
    "    print(\"oops some error : \",e)"
   ]
  }
 ],
 "metadata": {
  "kernelspec": {
   "display_name": "Python 3",
   "language": "python",
   "name": "python3"
  },
  "language_info": {
   "codemirror_mode": {
    "name": "ipython",
    "version": 3
   },
   "file_extension": ".py",
   "mimetype": "text/x-python",
   "name": "python",
   "nbconvert_exporter": "python",
   "pygments_lexer": "ipython3",
   "version": "3.9.10"
  },
  "orig_nbformat": 4
 },
 "nbformat": 4,
 "nbformat_minor": 2
}
